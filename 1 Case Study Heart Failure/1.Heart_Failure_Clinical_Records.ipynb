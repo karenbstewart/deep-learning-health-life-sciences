{
 "cells": [
  {
   "cell_type": "code",
   "execution_count": null,
   "metadata": {},
   "outputs": [],
   "source": [
    "!pip install nptyping"
   ]
  },
  {
   "cell_type": "markdown",
   "metadata": {},
   "source": [
    "# Heart Failure Clinical Records"
   ]
  },
  {
   "cell_type": "markdown",
   "metadata": {},
   "source": [
    "### Data, Code, Reference"
   ]
  },
  {
   "cell_type": "markdown",
   "metadata": {},
   "source": [
    "- **(`R`) Code**: [Github Repo](https://github.com/davidechicco/cardiovascular_heart_disease)\n",
    "\n",
    "- **Data**: [UCI ML Repository](https://archive.ics.uci.edu/ml/machine-learning-databases/00519/heart_failure_clinical_records_dataset.csv) | [FigShare](https://plos.figshare.com/articles/Survival_analysis_of_heart_failure_patients_A_case_study/5227684/1)"
   ]
  },
  {
   "cell_type": "markdown",
   "metadata": {},
   "source": [
    "![Reference Paper](./ref_paper.png \"Machine learning can predict survival of patients with heart failure from serum creatinine and ejection fraction alone\")\n",
    "\n",
    "**Paper**: Chicco, D.; Jurman, G. \n",
    "\n",
    "_Machine learning can predict survival of patients with heart failure from serum creatinine and ejection fraction alone_ [link](https://bmcmedinformdecismak.biomedcentral.com/articles/10.1186/s12911-020-1023-5)"
   ]
  },
  {
   "cell_type": "markdown",
   "metadata": {},
   "source": [
    "## Abstract\n",
    "\n",
    "#### Background"
   ]
  },
  {
   "cell_type": "markdown",
   "metadata": {},
   "source": [
    "> Cardiovascular diseases kill approximately $17$ million people globally every year, and they mainly exhibit as myocardial infarctions and heart failures. Heart failure (`HF`) occurs when the heart cannot pump enough blood to meet the needs of the body.\n",
    ">\n",
    ">Available electronic medical records of patients quantify symptoms, body features, and clinical laboratory test values, which can be used to perform biostatistics analysis aimed at highlighting patterns and correlations otherwise undetectable by medical doctors. \n",
    ">\n",
    "> Machine learning, in particular, can predict patients’ survival from their data and can individuate the most important features among those included in their medical records."
   ]
  },
  {
   "cell_type": "markdown",
   "metadata": {},
   "source": [
    "#### Methods\n",
    "\n",
    "> Authors analyze a dataset of `299` patients with heart failure collected in `2015`. \n",
    "\n",
    "The learning task has two objectives: (**1**) Apply several machine learning classifiers to predict the patients survival, and (**2**) **rank** the features corresponding to the most important risk factors. \n",
    "\n",
    "> \\[authors\\] also perform an alternative feature ranking analysis by employing traditional biostatistics tests, and compare these results with those provided by the machine learning algorithms. Since both feature ranking approaches clearly identify `serum creatinine` and `ejection fraction` as the two most relevant features, we then build the machine learning survival prediction models on these two factors alone.\n",
    "\n",
    "#### Results\n",
    "\n",
    "> Our results of these two-feature models show not only that serum creatinine and ejection fraction are sufficient to predict survival of heart failure patients from medical records, but also that **using these two features alone can lead to more accurate predictions** than using the original dataset features in its entirety."
   ]
  },
  {
   "cell_type": "markdown",
   "metadata": {},
   "source": [
    "---"
   ]
  },
  {
   "cell_type": "markdown",
   "metadata": {},
   "source": []
  },
  {
   "cell_type": "code",
   "execution_count": 1,
   "metadata": {},
   "outputs": [],
   "source": [
    "import sys\n",
    "import os"
   ]
  },
  {
   "cell_type": "code",
   "execution_count": 2,
   "metadata": {},
   "outputs": [],
   "source": [
    "import pandas as pd\n",
    "import numpy as np"
   ]
  },
  {
   "cell_type": "code",
   "execution_count": 3,
   "metadata": {},
   "outputs": [],
   "source": [
    "from matplotlib import pyplot as plt\n",
    "from matplotlib.ticker import StrMethodFormatter\n",
    "\n",
    "\n",
    "%matplotlib inline"
   ]
  },
  {
   "cell_type": "code",
   "execution_count": 4,
   "metadata": {},
   "outputs": [],
   "source": [
    "DATA_URL = \"https://archive.ics.uci.edu/ml/machine-learning-databases/00519/heart_failure_clinical_records_dataset.csv\""
   ]
  },
  {
   "cell_type": "markdown",
   "metadata": {},
   "source": [
    "###### Load Data into `pandas.DataFrame`"
   ]
  },
  {
   "cell_type": "code",
   "execution_count": 5,
   "metadata": {},
   "outputs": [],
   "source": [
    "data = pd.read_csv(DATA_URL)"
   ]
  },
  {
   "cell_type": "markdown",
   "metadata": {},
   "source": [
    "###### Features (names)"
   ]
  },
  {
   "cell_type": "code",
   "execution_count": 6,
   "metadata": {},
   "outputs": [
    {
     "data": {
      "text/plain": [
       "Index(['age', 'anaemia', 'creatinine_phosphokinase', 'diabetes',\n",
       "       'ejection_fraction', 'high_blood_pressure', 'platelets',\n",
       "       'serum_creatinine', 'serum_sodium', 'sex', 'smoking', 'time',\n",
       "       'DEATH_EVENT'],\n",
       "      dtype='object')"
      ]
     },
     "execution_count": 6,
     "metadata": {},
     "output_type": "execute_result"
    }
   ],
   "source": [
    "data.columns"
   ]
  },
  {
   "cell_type": "markdown",
   "metadata": {},
   "source": [
    "###### Data at a first glance"
   ]
  },
  {
   "cell_type": "code",
   "execution_count": 7,
   "metadata": {},
   "outputs": [
    {
     "data": {
      "text/plain": [
       "(299, 13)"
      ]
     },
     "execution_count": 7,
     "metadata": {},
     "output_type": "execute_result"
    }
   ],
   "source": [
    "data.shape"
   ]
  },
  {
   "cell_type": "code",
   "execution_count": 8,
   "metadata": {},
   "outputs": [
    {
     "data": {
      "text/html": [
       "<div>\n",
       "<style scoped>\n",
       "    .dataframe tbody tr th:only-of-type {\n",
       "        vertical-align: middle;\n",
       "    }\n",
       "\n",
       "    .dataframe tbody tr th {\n",
       "        vertical-align: top;\n",
       "    }\n",
       "\n",
       "    .dataframe thead th {\n",
       "        text-align: right;\n",
       "    }\n",
       "</style>\n",
       "<table border=\"1\" class=\"dataframe\">\n",
       "  <thead>\n",
       "    <tr style=\"text-align: right;\">\n",
       "      <th></th>\n",
       "      <th>age</th>\n",
       "      <th>anaemia</th>\n",
       "      <th>creatinine_phosphokinase</th>\n",
       "      <th>diabetes</th>\n",
       "      <th>ejection_fraction</th>\n",
       "      <th>high_blood_pressure</th>\n",
       "      <th>platelets</th>\n",
       "      <th>serum_creatinine</th>\n",
       "      <th>serum_sodium</th>\n",
       "      <th>sex</th>\n",
       "      <th>smoking</th>\n",
       "      <th>time</th>\n",
       "      <th>DEATH_EVENT</th>\n",
       "    </tr>\n",
       "  </thead>\n",
       "  <tbody>\n",
       "    <tr>\n",
       "      <th>0</th>\n",
       "      <td>75.0</td>\n",
       "      <td>0</td>\n",
       "      <td>582</td>\n",
       "      <td>0</td>\n",
       "      <td>20</td>\n",
       "      <td>1</td>\n",
       "      <td>265000.00</td>\n",
       "      <td>1.9</td>\n",
       "      <td>130</td>\n",
       "      <td>1</td>\n",
       "      <td>0</td>\n",
       "      <td>4</td>\n",
       "      <td>1</td>\n",
       "    </tr>\n",
       "    <tr>\n",
       "      <th>1</th>\n",
       "      <td>55.0</td>\n",
       "      <td>0</td>\n",
       "      <td>7861</td>\n",
       "      <td>0</td>\n",
       "      <td>38</td>\n",
       "      <td>0</td>\n",
       "      <td>263358.03</td>\n",
       "      <td>1.1</td>\n",
       "      <td>136</td>\n",
       "      <td>1</td>\n",
       "      <td>0</td>\n",
       "      <td>6</td>\n",
       "      <td>1</td>\n",
       "    </tr>\n",
       "    <tr>\n",
       "      <th>2</th>\n",
       "      <td>65.0</td>\n",
       "      <td>0</td>\n",
       "      <td>146</td>\n",
       "      <td>0</td>\n",
       "      <td>20</td>\n",
       "      <td>0</td>\n",
       "      <td>162000.00</td>\n",
       "      <td>1.3</td>\n",
       "      <td>129</td>\n",
       "      <td>1</td>\n",
       "      <td>1</td>\n",
       "      <td>7</td>\n",
       "      <td>1</td>\n",
       "    </tr>\n",
       "    <tr>\n",
       "      <th>3</th>\n",
       "      <td>50.0</td>\n",
       "      <td>1</td>\n",
       "      <td>111</td>\n",
       "      <td>0</td>\n",
       "      <td>20</td>\n",
       "      <td>0</td>\n",
       "      <td>210000.00</td>\n",
       "      <td>1.9</td>\n",
       "      <td>137</td>\n",
       "      <td>1</td>\n",
       "      <td>0</td>\n",
       "      <td>7</td>\n",
       "      <td>1</td>\n",
       "    </tr>\n",
       "    <tr>\n",
       "      <th>4</th>\n",
       "      <td>65.0</td>\n",
       "      <td>1</td>\n",
       "      <td>160</td>\n",
       "      <td>1</td>\n",
       "      <td>20</td>\n",
       "      <td>0</td>\n",
       "      <td>327000.00</td>\n",
       "      <td>2.7</td>\n",
       "      <td>116</td>\n",
       "      <td>0</td>\n",
       "      <td>0</td>\n",
       "      <td>8</td>\n",
       "      <td>1</td>\n",
       "    </tr>\n",
       "  </tbody>\n",
       "</table>\n",
       "</div>"
      ],
      "text/plain": [
       "    age  anaemia  creatinine_phosphokinase  diabetes  ejection_fraction  \\\n",
       "0  75.0        0                       582         0                 20   \n",
       "1  55.0        0                      7861         0                 38   \n",
       "2  65.0        0                       146         0                 20   \n",
       "3  50.0        1                       111         0                 20   \n",
       "4  65.0        1                       160         1                 20   \n",
       "\n",
       "   high_blood_pressure  platelets  serum_creatinine  serum_sodium  sex  \\\n",
       "0                    1  265000.00               1.9           130    1   \n",
       "1                    0  263358.03               1.1           136    1   \n",
       "2                    0  162000.00               1.3           129    1   \n",
       "3                    0  210000.00               1.9           137    1   \n",
       "4                    0  327000.00               2.7           116    0   \n",
       "\n",
       "   smoking  time  DEATH_EVENT  \n",
       "0        0     4            1  \n",
       "1        0     6            1  \n",
       "2        1     7            1  \n",
       "3        0     7            1  \n",
       "4        0     8            1  "
      ]
     },
     "execution_count": 8,
     "metadata": {},
     "output_type": "execute_result"
    }
   ],
   "source": [
    "data.head()"
   ]
  },
  {
   "cell_type": "code",
   "execution_count": 9,
   "metadata": {},
   "outputs": [],
   "source": [
    "numerical_features = ['age', 'creatinine_phosphokinase', 'ejection_fraction', \n",
    "                    'platelets', 'serum_creatinine', 'serum_sodium', 'time']\n",
    "\n",
    "categorical_features = ['anaemia', 'high_blood_pressure', 'diabetes', 'sex', 'smoking']"
   ]
  },
  {
   "cell_type": "code",
   "execution_count": 10,
   "metadata": {},
   "outputs": [],
   "source": [
    "X = data.loc[:, ~data.columns.isin((\"DEATH_EVENT\",))]"
   ]
  },
  {
   "cell_type": "code",
   "execution_count": 11,
   "metadata": {},
   "outputs": [],
   "source": [
    "X_cat = pd.get_dummies(X[categorical_features])"
   ]
  },
  {
   "cell_type": "code",
   "execution_count": 12,
   "metadata": {},
   "outputs": [],
   "source": [
    "X_num = X[numerical_features]"
   ]
  },
  {
   "cell_type": "code",
   "execution_count": 13,
   "metadata": {},
   "outputs": [],
   "source": [
    "y = data[\"DEATH_EVENT\"].astype(np.int)"
   ]
  },
  {
   "cell_type": "code",
   "execution_count": 14,
   "metadata": {},
   "outputs": [],
   "source": [
    "# Helper Function\n",
    "def plot_sample_distribution(labels, color='C0', title=''):\n",
    "    \"\"\"Plot the Distribution count of samples per labels.\n",
    "    The matplotlib axis is returned.\n",
    "    \"\"\"\n",
    "    \n",
    "    fig, ax = plt.subplots(figsize=(7, 8))\n",
    "    counts, bins, _ = plt.hist(labels, bins=3, \n",
    "                               color=color)\n",
    "\n",
    "    # Despine\n",
    "    ax.spines['right'].set_visible(False)\n",
    "    ax.spines['top'].set_visible(False)\n",
    "    ax.spines['left'].set_visible(False)\n",
    "\n",
    "    # Switch off ticks\n",
    "    ax.tick_params(axis=\"both\", which=\"both\", bottom=\"off\", \n",
    "                   top=\"off\", labelbottom=\"on\", \n",
    "                   left=\"off\", right=\"off\", labelleft=\"on\")\n",
    "\n",
    "    # Draw horizontal axis lines\n",
    "    vals = ax.get_yticks()\n",
    "    for tick in vals:\n",
    "        ax.axhline(y=tick, linestyle='dashed', alpha=0.4, color='#e2e2e2', zorder=1)\n",
    "\n",
    "    # Remove title\n",
    "    ax.set_title(title)\n",
    "\n",
    "    # Set x-axis label\n",
    "    ax.set_xlabel(\"Death Event\", labelpad=20, weight='bold', size=12)\n",
    "\n",
    "    # Set y-axis label\n",
    "    ax.set_ylabel(\"Count\", labelpad=20, weight='bold', size=12)\n",
    "\n",
    "    # Format y-axis label\n",
    "    ax.yaxis.set_major_formatter(StrMethodFormatter('{x:,g}'))\n",
    "\n",
    "    ax.annotate(str(int(counts[0])), \n",
    "                xy=(bins[0] + 0.15, counts[0] + 2), \n",
    "                size=14)\n",
    "    ax.annotate(str(int(counts[2])), \n",
    "                xy=(bins[2] + 0.15, counts[2] + 2), \n",
    "                size=14)\n",
    "    return ax"
   ]
  },
  {
   "cell_type": "code",
   "execution_count": 15,
   "metadata": {},
   "outputs": [
    {
     "data": {
      "image/png": "[encoded data removed]",
      "text/plain": [
       "<Figure size 504x576 with 1 Axes>"
      ]
     },
     "metadata": {
      "needs_background": "light"
     },
     "output_type": "display_data"
    }
   ],
   "source": [
    "plot_sample_distribution(y.values)\n",
    "plt.show()"
   ]
  },
  {
   "cell_type": "markdown",
   "metadata": {},
   "source": [
    "### Descriptive Statistics"
   ]
  },
  {
   "cell_type": "markdown",
   "metadata": {},
   "source": [
    "##### Statistics for Categorical Variables"
   ]
  },
  {
   "cell_type": "code",
   "execution_count": 16,
   "metadata": {},
   "outputs": [
    {
     "data": {
      "text/html": [
       "<div>\n",
       "<style scoped>\n",
       "    .dataframe tbody tr th:only-of-type {\n",
       "        vertical-align: middle;\n",
       "    }\n",
       "\n",
       "    .dataframe tbody tr th {\n",
       "        vertical-align: top;\n",
       "    }\n",
       "\n",
       "    .dataframe thead th {\n",
       "        text-align: right;\n",
       "    }\n",
       "</style>\n",
       "<table border=\"1\" class=\"dataframe\">\n",
       "  <thead>\n",
       "    <tr style=\"text-align: right;\">\n",
       "      <th></th>\n",
       "      <th>count</th>\n",
       "      <th>mean</th>\n",
       "      <th>std</th>\n",
       "      <th>min</th>\n",
       "      <th>50%</th>\n",
       "      <th>max</th>\n",
       "    </tr>\n",
       "  </thead>\n",
       "  <tbody>\n",
       "    <tr>\n",
       "      <th>anaemia</th>\n",
       "      <td>203.0</td>\n",
       "      <td>0.408867</td>\n",
       "      <td>0.492840</td>\n",
       "      <td>0.0</td>\n",
       "      <td>0.0</td>\n",
       "      <td>1.0</td>\n",
       "    </tr>\n",
       "    <tr>\n",
       "      <th>high_blood_pressure</th>\n",
       "      <td>203.0</td>\n",
       "      <td>0.325123</td>\n",
       "      <td>0.469579</td>\n",
       "      <td>0.0</td>\n",
       "      <td>0.0</td>\n",
       "      <td>1.0</td>\n",
       "    </tr>\n",
       "    <tr>\n",
       "      <th>diabetes</th>\n",
       "      <td>203.0</td>\n",
       "      <td>0.418719</td>\n",
       "      <td>0.494569</td>\n",
       "      <td>0.0</td>\n",
       "      <td>0.0</td>\n",
       "      <td>1.0</td>\n",
       "    </tr>\n",
       "    <tr>\n",
       "      <th>sex</th>\n",
       "      <td>203.0</td>\n",
       "      <td>0.650246</td>\n",
       "      <td>0.478071</td>\n",
       "      <td>0.0</td>\n",
       "      <td>1.0</td>\n",
       "      <td>1.0</td>\n",
       "    </tr>\n",
       "    <tr>\n",
       "      <th>smoking</th>\n",
       "      <td>203.0</td>\n",
       "      <td>0.325123</td>\n",
       "      <td>0.469579</td>\n",
       "      <td>0.0</td>\n",
       "      <td>0.0</td>\n",
       "      <td>1.0</td>\n",
       "    </tr>\n",
       "  </tbody>\n",
       "</table>\n",
       "</div>"
      ],
      "text/plain": [
       "                     count      mean       std  min  50%  max\n",
       "anaemia              203.0  0.408867  0.492840  0.0  0.0  1.0\n",
       "high_blood_pressure  203.0  0.325123  0.469579  0.0  0.0  1.0\n",
       "diabetes             203.0  0.418719  0.494569  0.0  0.0  1.0\n",
       "sex                  203.0  0.650246  0.478071  0.0  1.0  1.0\n",
       "smoking              203.0  0.325123  0.469579  0.0  0.0  1.0"
      ]
     },
     "execution_count": 16,
     "metadata": {},
     "output_type": "execute_result"
    }
   ],
   "source": [
    "X_cat[y == 0].describe(percentiles=[]).T"
   ]
  },
  {
   "cell_type": "code",
   "execution_count": 17,
   "metadata": {},
   "outputs": [
    {
     "data": {
      "text/html": [
       "<div>\n",
       "<style scoped>\n",
       "    .dataframe tbody tr th:only-of-type {\n",
       "        vertical-align: middle;\n",
       "    }\n",
       "\n",
       "    .dataframe tbody tr th {\n",
       "        vertical-align: top;\n",
       "    }\n",
       "\n",
       "    .dataframe thead th {\n",
       "        text-align: right;\n",
       "    }\n",
       "</style>\n",
       "<table border=\"1\" class=\"dataframe\">\n",
       "  <thead>\n",
       "    <tr style=\"text-align: right;\">\n",
       "      <th></th>\n",
       "      <th>count</th>\n",
       "      <th>mean</th>\n",
       "      <th>std</th>\n",
       "      <th>min</th>\n",
       "      <th>50%</th>\n",
       "      <th>max</th>\n",
       "    </tr>\n",
       "  </thead>\n",
       "  <tbody>\n",
       "    <tr>\n",
       "      <th>anaemia</th>\n",
       "      <td>96.0</td>\n",
       "      <td>0.479167</td>\n",
       "      <td>0.502188</td>\n",
       "      <td>0.0</td>\n",
       "      <td>0.0</td>\n",
       "      <td>1.0</td>\n",
       "    </tr>\n",
       "    <tr>\n",
       "      <th>high_blood_pressure</th>\n",
       "      <td>96.0</td>\n",
       "      <td>0.406250</td>\n",
       "      <td>0.493710</td>\n",
       "      <td>0.0</td>\n",
       "      <td>0.0</td>\n",
       "      <td>1.0</td>\n",
       "    </tr>\n",
       "    <tr>\n",
       "      <th>diabetes</th>\n",
       "      <td>96.0</td>\n",
       "      <td>0.416667</td>\n",
       "      <td>0.495595</td>\n",
       "      <td>0.0</td>\n",
       "      <td>0.0</td>\n",
       "      <td>1.0</td>\n",
       "    </tr>\n",
       "    <tr>\n",
       "      <th>sex</th>\n",
       "      <td>96.0</td>\n",
       "      <td>0.645833</td>\n",
       "      <td>0.480771</td>\n",
       "      <td>0.0</td>\n",
       "      <td>1.0</td>\n",
       "      <td>1.0</td>\n",
       "    </tr>\n",
       "    <tr>\n",
       "      <th>smoking</th>\n",
       "      <td>96.0</td>\n",
       "      <td>0.312500</td>\n",
       "      <td>0.465946</td>\n",
       "      <td>0.0</td>\n",
       "      <td>0.0</td>\n",
       "      <td>1.0</td>\n",
       "    </tr>\n",
       "  </tbody>\n",
       "</table>\n",
       "</div>"
      ],
      "text/plain": [
       "                     count      mean       std  min  50%  max\n",
       "anaemia               96.0  0.479167  0.502188  0.0  0.0  1.0\n",
       "high_blood_pressure   96.0  0.406250  0.493710  0.0  0.0  1.0\n",
       "diabetes              96.0  0.416667  0.495595  0.0  0.0  1.0\n",
       "sex                   96.0  0.645833  0.480771  0.0  1.0  1.0\n",
       "smoking               96.0  0.312500  0.465946  0.0  0.0  1.0"
      ]
     },
     "execution_count": 17,
     "metadata": {},
     "output_type": "execute_result"
    }
   ],
   "source": [
    "X_cat[y == 1].describe(percentiles=[]).T"
   ]
  },
  {
   "cell_type": "markdown",
   "metadata": {},
   "source": [
    "##### Statistics for Numerical Variables"
   ]
  },
  {
   "cell_type": "code",
   "execution_count": 18,
   "metadata": {},
   "outputs": [
    {
     "data": {
      "text/html": [
       "<div>\n",
       "<style scoped>\n",
       "    .dataframe tbody tr th:only-of-type {\n",
       "        vertical-align: middle;\n",
       "    }\n",
       "\n",
       "    .dataframe tbody tr th {\n",
       "        vertical-align: top;\n",
       "    }\n",
       "\n",
       "    .dataframe thead th {\n",
       "        text-align: right;\n",
       "    }\n",
       "</style>\n",
       "<table border=\"1\" class=\"dataframe\">\n",
       "  <thead>\n",
       "    <tr style=\"text-align: right;\">\n",
       "      <th></th>\n",
       "      <th>count</th>\n",
       "      <th>mean</th>\n",
       "      <th>std</th>\n",
       "      <th>min</th>\n",
       "      <th>50%</th>\n",
       "      <th>max</th>\n",
       "    </tr>\n",
       "  </thead>\n",
       "  <tbody>\n",
       "    <tr>\n",
       "      <th>age</th>\n",
       "      <td>299.0</td>\n",
       "      <td>60.833893</td>\n",
       "      <td>11.894809</td>\n",
       "      <td>40.0</td>\n",
       "      <td>60.0</td>\n",
       "      <td>95.0</td>\n",
       "    </tr>\n",
       "    <tr>\n",
       "      <th>creatinine_phosphokinase</th>\n",
       "      <td>299.0</td>\n",
       "      <td>581.839465</td>\n",
       "      <td>970.287881</td>\n",
       "      <td>23.0</td>\n",
       "      <td>250.0</td>\n",
       "      <td>7861.0</td>\n",
       "    </tr>\n",
       "    <tr>\n",
       "      <th>ejection_fraction</th>\n",
       "      <td>299.0</td>\n",
       "      <td>38.083612</td>\n",
       "      <td>11.834841</td>\n",
       "      <td>14.0</td>\n",
       "      <td>38.0</td>\n",
       "      <td>80.0</td>\n",
       "    </tr>\n",
       "    <tr>\n",
       "      <th>platelets</th>\n",
       "      <td>299.0</td>\n",
       "      <td>263358.029264</td>\n",
       "      <td>97804.236869</td>\n",
       "      <td>25100.0</td>\n",
       "      <td>262000.0</td>\n",
       "      <td>850000.0</td>\n",
       "    </tr>\n",
       "    <tr>\n",
       "      <th>serum_creatinine</th>\n",
       "      <td>299.0</td>\n",
       "      <td>1.393880</td>\n",
       "      <td>1.034510</td>\n",
       "      <td>0.5</td>\n",
       "      <td>1.1</td>\n",
       "      <td>9.4</td>\n",
       "    </tr>\n",
       "    <tr>\n",
       "      <th>serum_sodium</th>\n",
       "      <td>299.0</td>\n",
       "      <td>136.625418</td>\n",
       "      <td>4.412477</td>\n",
       "      <td>113.0</td>\n",
       "      <td>137.0</td>\n",
       "      <td>148.0</td>\n",
       "    </tr>\n",
       "    <tr>\n",
       "      <th>time</th>\n",
       "      <td>299.0</td>\n",
       "      <td>130.260870</td>\n",
       "      <td>77.614208</td>\n",
       "      <td>4.0</td>\n",
       "      <td>115.0</td>\n",
       "      <td>285.0</td>\n",
       "    </tr>\n",
       "  </tbody>\n",
       "</table>\n",
       "</div>"
      ],
      "text/plain": [
       "                          count           mean           std      min  \\\n",
       "age                       299.0      60.833893     11.894809     40.0   \n",
       "creatinine_phosphokinase  299.0     581.839465    970.287881     23.0   \n",
       "ejection_fraction         299.0      38.083612     11.834841     14.0   \n",
       "platelets                 299.0  263358.029264  97804.236869  25100.0   \n",
       "serum_creatinine          299.0       1.393880      1.034510      0.5   \n",
       "serum_sodium              299.0     136.625418      4.412477    113.0   \n",
       "time                      299.0     130.260870     77.614208      4.0   \n",
       "\n",
       "                               50%       max  \n",
       "age                           60.0      95.0  \n",
       "creatinine_phosphokinase     250.0    7861.0  \n",
       "ejection_fraction             38.0      80.0  \n",
       "platelets                 262000.0  850000.0  \n",
       "serum_creatinine               1.1       9.4  \n",
       "serum_sodium                 137.0     148.0  \n",
       "time                         115.0     285.0  "
      ]
     },
     "execution_count": 18,
     "metadata": {},
     "output_type": "execute_result"
    }
   ],
   "source": [
    "X_num.describe(percentiles=[]).T"
   ]
  },
  {
   "cell_type": "code",
   "execution_count": 19,
   "metadata": {},
   "outputs": [
    {
     "data": {
      "text/html": [
       "<div>\n",
       "<style scoped>\n",
       "    .dataframe tbody tr th:only-of-type {\n",
       "        vertical-align: middle;\n",
       "    }\n",
       "\n",
       "    .dataframe tbody tr th {\n",
       "        vertical-align: top;\n",
       "    }\n",
       "\n",
       "    .dataframe thead th {\n",
       "        text-align: right;\n",
       "    }\n",
       "</style>\n",
       "<table border=\"1\" class=\"dataframe\">\n",
       "  <thead>\n",
       "    <tr style=\"text-align: right;\">\n",
       "      <th></th>\n",
       "      <th>count</th>\n",
       "      <th>mean</th>\n",
       "      <th>std</th>\n",
       "      <th>min</th>\n",
       "      <th>50%</th>\n",
       "      <th>max</th>\n",
       "    </tr>\n",
       "  </thead>\n",
       "  <tbody>\n",
       "    <tr>\n",
       "      <th>age</th>\n",
       "      <td>96.0</td>\n",
       "      <td>65.215281</td>\n",
       "      <td>13.214556</td>\n",
       "      <td>42.0</td>\n",
       "      <td>65.0</td>\n",
       "      <td>95.0</td>\n",
       "    </tr>\n",
       "    <tr>\n",
       "      <th>creatinine_phosphokinase</th>\n",
       "      <td>96.0</td>\n",
       "      <td>670.197917</td>\n",
       "      <td>1316.580640</td>\n",
       "      <td>23.0</td>\n",
       "      <td>259.0</td>\n",
       "      <td>7861.0</td>\n",
       "    </tr>\n",
       "    <tr>\n",
       "      <th>ejection_fraction</th>\n",
       "      <td>96.0</td>\n",
       "      <td>33.468750</td>\n",
       "      <td>12.525303</td>\n",
       "      <td>14.0</td>\n",
       "      <td>30.0</td>\n",
       "      <td>70.0</td>\n",
       "    </tr>\n",
       "    <tr>\n",
       "      <th>platelets</th>\n",
       "      <td>96.0</td>\n",
       "      <td>256381.044792</td>\n",
       "      <td>98525.682856</td>\n",
       "      <td>47000.0</td>\n",
       "      <td>258500.0</td>\n",
       "      <td>621000.0</td>\n",
       "    </tr>\n",
       "    <tr>\n",
       "      <th>serum_creatinine</th>\n",
       "      <td>96.0</td>\n",
       "      <td>1.835833</td>\n",
       "      <td>1.468562</td>\n",
       "      <td>0.6</td>\n",
       "      <td>1.3</td>\n",
       "      <td>9.4</td>\n",
       "    </tr>\n",
       "    <tr>\n",
       "      <th>serum_sodium</th>\n",
       "      <td>96.0</td>\n",
       "      <td>135.375000</td>\n",
       "      <td>5.001579</td>\n",
       "      <td>116.0</td>\n",
       "      <td>135.5</td>\n",
       "      <td>146.0</td>\n",
       "    </tr>\n",
       "    <tr>\n",
       "      <th>time</th>\n",
       "      <td>96.0</td>\n",
       "      <td>70.885417</td>\n",
       "      <td>62.378281</td>\n",
       "      <td>4.0</td>\n",
       "      <td>44.5</td>\n",
       "      <td>241.0</td>\n",
       "    </tr>\n",
       "  </tbody>\n",
       "</table>\n",
       "</div>"
      ],
      "text/plain": [
       "                          count           mean           std      min  \\\n",
       "age                        96.0      65.215281     13.214556     42.0   \n",
       "creatinine_phosphokinase   96.0     670.197917   1316.580640     23.0   \n",
       "ejection_fraction          96.0      33.468750     12.525303     14.0   \n",
       "platelets                  96.0  256381.044792  98525.682856  47000.0   \n",
       "serum_creatinine           96.0       1.835833      1.468562      0.6   \n",
       "serum_sodium               96.0     135.375000      5.001579    116.0   \n",
       "time                       96.0      70.885417     62.378281      4.0   \n",
       "\n",
       "                               50%       max  \n",
       "age                           65.0      95.0  \n",
       "creatinine_phosphokinase     259.0    7861.0  \n",
       "ejection_fraction             30.0      70.0  \n",
       "platelets                 258500.0  621000.0  \n",
       "serum_creatinine               1.3       9.4  \n",
       "serum_sodium                 135.5     146.0  \n",
       "time                          44.5     241.0  "
      ]
     },
     "execution_count": 19,
     "metadata": {},
     "output_type": "execute_result"
    }
   ],
   "source": [
    "X_num[y == 1].describe(percentiles=[]).T"
   ]
  },
  {
   "cell_type": "code",
   "execution_count": 20,
   "metadata": {},
   "outputs": [
    {
     "data": {
      "text/html": [
       "<div>\n",
       "<style scoped>\n",
       "    .dataframe tbody tr th:only-of-type {\n",
       "        vertical-align: middle;\n",
       "    }\n",
       "\n",
       "    .dataframe tbody tr th {\n",
       "        vertical-align: top;\n",
       "    }\n",
       "\n",
       "    .dataframe thead th {\n",
       "        text-align: right;\n",
       "    }\n",
       "</style>\n",
       "<table border=\"1\" class=\"dataframe\">\n",
       "  <thead>\n",
       "    <tr style=\"text-align: right;\">\n",
       "      <th></th>\n",
       "      <th>count</th>\n",
       "      <th>mean</th>\n",
       "      <th>std</th>\n",
       "      <th>min</th>\n",
       "      <th>50%</th>\n",
       "      <th>max</th>\n",
       "    </tr>\n",
       "  </thead>\n",
       "  <tbody>\n",
       "    <tr>\n",
       "      <th>age</th>\n",
       "      <td>203.0</td>\n",
       "      <td>58.761906</td>\n",
       "      <td>10.637890</td>\n",
       "      <td>40.0</td>\n",
       "      <td>60.0</td>\n",
       "      <td>90.0</td>\n",
       "    </tr>\n",
       "    <tr>\n",
       "      <th>creatinine_phosphokinase</th>\n",
       "      <td>203.0</td>\n",
       "      <td>540.054187</td>\n",
       "      <td>753.799572</td>\n",
       "      <td>30.0</td>\n",
       "      <td>245.0</td>\n",
       "      <td>5209.0</td>\n",
       "    </tr>\n",
       "    <tr>\n",
       "      <th>ejection_fraction</th>\n",
       "      <td>203.0</td>\n",
       "      <td>40.266010</td>\n",
       "      <td>10.859963</td>\n",
       "      <td>17.0</td>\n",
       "      <td>38.0</td>\n",
       "      <td>80.0</td>\n",
       "    </tr>\n",
       "    <tr>\n",
       "      <th>platelets</th>\n",
       "      <td>203.0</td>\n",
       "      <td>266657.489901</td>\n",
       "      <td>97531.202283</td>\n",
       "      <td>25100.0</td>\n",
       "      <td>263000.0</td>\n",
       "      <td>850000.0</td>\n",
       "    </tr>\n",
       "    <tr>\n",
       "      <th>serum_creatinine</th>\n",
       "      <td>203.0</td>\n",
       "      <td>1.184877</td>\n",
       "      <td>0.654083</td>\n",
       "      <td>0.5</td>\n",
       "      <td>1.0</td>\n",
       "      <td>6.1</td>\n",
       "    </tr>\n",
       "    <tr>\n",
       "      <th>serum_sodium</th>\n",
       "      <td>203.0</td>\n",
       "      <td>137.216749</td>\n",
       "      <td>3.982923</td>\n",
       "      <td>113.0</td>\n",
       "      <td>137.0</td>\n",
       "      <td>148.0</td>\n",
       "    </tr>\n",
       "    <tr>\n",
       "      <th>time</th>\n",
       "      <td>203.0</td>\n",
       "      <td>158.339901</td>\n",
       "      <td>67.742872</td>\n",
       "      <td>12.0</td>\n",
       "      <td>172.0</td>\n",
       "      <td>285.0</td>\n",
       "    </tr>\n",
       "  </tbody>\n",
       "</table>\n",
       "</div>"
      ],
      "text/plain": [
       "                          count           mean           std      min  \\\n",
       "age                       203.0      58.761906     10.637890     40.0   \n",
       "creatinine_phosphokinase  203.0     540.054187    753.799572     30.0   \n",
       "ejection_fraction         203.0      40.266010     10.859963     17.0   \n",
       "platelets                 203.0  266657.489901  97531.202283  25100.0   \n",
       "serum_creatinine          203.0       1.184877      0.654083      0.5   \n",
       "serum_sodium              203.0     137.216749      3.982923    113.0   \n",
       "time                      203.0     158.339901     67.742872     12.0   \n",
       "\n",
       "                               50%       max  \n",
       "age                           60.0      90.0  \n",
       "creatinine_phosphokinase     245.0    5209.0  \n",
       "ejection_fraction             38.0      80.0  \n",
       "platelets                 263000.0  850000.0  \n",
       "serum_creatinine               1.0       6.1  \n",
       "serum_sodium                 137.0     148.0  \n",
       "time                         172.0     285.0  "
      ]
     },
     "execution_count": 20,
     "metadata": {},
     "output_type": "execute_result"
    }
   ],
   "source": [
    "X_num[y == 0].describe(percentiles=[]).T"
   ]
  },
  {
   "cell_type": "code",
   "execution_count": 21,
   "metadata": {},
   "outputs": [
    {
     "data": {
      "text/html": [
       "<table><thead class=\"c-article-table-head\">\n",
       "<tr><th class=\"u-text-left \">&nbsp;</th><th class=\"u-text-left \" colspan=\"3\">Full sample</th><th class=\"u-text-left \" colspan=\"3\">Dead patients</th><th class=\"u-text-left \" colspan=\"3\">Survived patients</th></tr><tr><th class=\"u-text-left \">Numeric feature</th><th class=\"u-text-left \">Median</th><th class=\"u-text-left \">Mean</th><th class=\"u-text-left \"><i>σ</i></th><th class=\"u-text-left \">Median</th><th class=\"u-text-left \">Mean</th><th class=\"u-text-left \"><i>σ</i></th><th class=\"u-text-left \">Median</th><th class=\"u-text-left \">Mean</th><th class=\"u-text-left \"><i>σ</i></th></tr></thead><tbody><tr><td class=\"u-text-left \">Age</td><td class=\"u-text-left \">60.00</td><td class=\"u-text-left \">60.83</td><td class=\"u-text-left \">11.89</td><td class=\"u-text-left \">65.00</td><td class=\"u-text-left \">65.22</td><td class=\"u-text-left \">13.21</td><td class=\"u-text-left \">60.00</td><td class=\"u-text-left \">58.76</td><td class=\"u-text-left \">10.64</td></tr><tr><td class=\"u-text-left \">Creatinine phosphokinase</td><td class=\"u-text-left \">250.00</td><td class=\"u-text-left \">581.80</td><td class=\"u-text-left \">970.29</td><td class=\"u-text-left \">259.00</td><td class=\"u-text-left \">670.20</td><td class=\"u-text-left \">1316.58</td><td class=\"u-text-left \">245.00</td><td class=\"u-text-left \">540.10</td><td class=\"u-text-left \">753.80</td></tr><tr><td class=\"u-text-left \">Ejection fraction</td><td class=\"u-text-left \">38.00</td><td class=\"u-text-left \">38.08</td><td class=\"u-text-left \">11.83</td><td class=\"u-text-left \">30.00</td><td class=\"u-text-left \">33.47</td><td class=\"u-text-left \">12.53</td><td class=\"u-text-left \">38.00</td><td class=\"u-text-left \">40.27</td><td class=\"u-text-left \">10.86</td></tr><tr><td class=\"u-text-left \">Platelets</td><td class=\"u-text-left \">262.00</td><td class=\"u-text-left \">263.36</td><td class=\"u-text-left \">97.80</td><td class=\"u-text-left \">258.50</td><td class=\"u-text-left \">256.38</td><td class=\"u-text-left \">98.53</td><td class=\"u-text-left \">263.00</td><td class=\"u-text-left \">266.66</td><td class=\"u-text-left \">97.53</td></tr><tr><td class=\"u-text-left \">Serum creatinine</td><td class=\"u-text-left \">1.10</td><td class=\"u-text-left \">1.39</td><td class=\"u-text-left \">1.03</td><td class=\"u-text-left \">1.30</td><td class=\"u-text-left \">1.84</td><td class=\"u-text-left \">1.47</td><td class=\"u-text-left \">1.00</td><td class=\"u-text-left \">1.19</td><td class=\"u-text-left \">0.65</td></tr><tr><td class=\"u-text-left \">Serum sodium</td><td class=\"u-text-left \">137.00</td><td class=\"u-text-left \">136.60</td><td class=\"u-text-left \">4.41</td><td class=\"u-text-left \">135.50</td><td class=\"u-text-left \">135.40</td><td class=\"u-text-left \">5.00</td><td class=\"u-text-left \">137.00</td><td class=\"u-text-left \">137.20</td><td class=\"u-text-left \">3.98</td></tr><tr><td class=\"u-text-left \">Time</td><td class=\"u-text-left \">115.00</td><td class=\"u-text-left \">130.30</td><td class=\"u-text-left \">77.61</td><td class=\"u-text-left \">44.50</td><td class=\"u-text-left \">70.89</td><td class=\"u-text-left \">62.38</td><td class=\"u-text-left \">172.00</td><td class=\"u-text-left \">158.30</td><td class=\"u-text-left \">67.74</td></tr></tbody></table>"
      ],
      "text/plain": [
       "<IPython.core.display.HTML object>"
      ]
     },
     "execution_count": 21,
     "metadata": {},
     "output_type": "execute_result"
    }
   ],
   "source": [
    "from IPython.display import HTML\n",
    "\n",
    "HTML(\"\"\"<table><thead class=\"c-article-table-head\">\n",
    "<tr><th class=\"u-text-left \">&nbsp;</th><th class=\"u-text-left \" colspan=\"3\">Full sample</th><th class=\"u-text-left \" colspan=\"3\">Dead patients</th><th class=\"u-text-left \" colspan=\"3\">Survived patients</th></tr><tr><th class=\"u-text-left \">Numeric feature</th><th class=\"u-text-left \">Median</th><th class=\"u-text-left \">Mean</th><th class=\"u-text-left \"><i>σ</i></th><th class=\"u-text-left \">Median</th><th class=\"u-text-left \">Mean</th><th class=\"u-text-left \"><i>σ</i></th><th class=\"u-text-left \">Median</th><th class=\"u-text-left \">Mean</th><th class=\"u-text-left \"><i>σ</i></th></tr></thead><tbody><tr><td class=\"u-text-left \">Age</td><td class=\"u-text-left \">60.00</td><td class=\"u-text-left \">60.83</td><td class=\"u-text-left \">11.89</td><td class=\"u-text-left \">65.00</td><td class=\"u-text-left \">65.22</td><td class=\"u-text-left \">13.21</td><td class=\"u-text-left \">60.00</td><td class=\"u-text-left \">58.76</td><td class=\"u-text-left \">10.64</td></tr><tr><td class=\"u-text-left \">Creatinine phosphokinase</td><td class=\"u-text-left \">250.00</td><td class=\"u-text-left \">581.80</td><td class=\"u-text-left \">970.29</td><td class=\"u-text-left \">259.00</td><td class=\"u-text-left \">670.20</td><td class=\"u-text-left \">1316.58</td><td class=\"u-text-left \">245.00</td><td class=\"u-text-left \">540.10</td><td class=\"u-text-left \">753.80</td></tr><tr><td class=\"u-text-left \">Ejection fraction</td><td class=\"u-text-left \">38.00</td><td class=\"u-text-left \">38.08</td><td class=\"u-text-left \">11.83</td><td class=\"u-text-left \">30.00</td><td class=\"u-text-left \">33.47</td><td class=\"u-text-left \">12.53</td><td class=\"u-text-left \">38.00</td><td class=\"u-text-left \">40.27</td><td class=\"u-text-left \">10.86</td></tr><tr><td class=\"u-text-left \">Platelets</td><td class=\"u-text-left \">262.00</td><td class=\"u-text-left \">263.36</td><td class=\"u-text-left \">97.80</td><td class=\"u-text-left \">258.50</td><td class=\"u-text-left \">256.38</td><td class=\"u-text-left \">98.53</td><td class=\"u-text-left \">263.00</td><td class=\"u-text-left \">266.66</td><td class=\"u-text-left \">97.53</td></tr><tr><td class=\"u-text-left \">Serum creatinine</td><td class=\"u-text-left \">1.10</td><td class=\"u-text-left \">1.39</td><td class=\"u-text-left \">1.03</td><td class=\"u-text-left \">1.30</td><td class=\"u-text-left \">1.84</td><td class=\"u-text-left \">1.47</td><td class=\"u-text-left \">1.00</td><td class=\"u-text-left \">1.19</td><td class=\"u-text-left \">0.65</td></tr><tr><td class=\"u-text-left \">Serum sodium</td><td class=\"u-text-left \">137.00</td><td class=\"u-text-left \">136.60</td><td class=\"u-text-left \">4.41</td><td class=\"u-text-left \">135.50</td><td class=\"u-text-left \">135.40</td><td class=\"u-text-left \">5.00</td><td class=\"u-text-left \">137.00</td><td class=\"u-text-left \">137.20</td><td class=\"u-text-left \">3.98</td></tr><tr><td class=\"u-text-left \">Time</td><td class=\"u-text-left \">115.00</td><td class=\"u-text-left \">130.30</td><td class=\"u-text-left \">77.61</td><td class=\"u-text-left \">44.50</td><td class=\"u-text-left \">70.89</td><td class=\"u-text-left \">62.38</td><td class=\"u-text-left \">172.00</td><td class=\"u-text-left \">158.30</td><td class=\"u-text-left \">67.74</td></tr></tbody></table>\"\"\")"
   ]
  },
  {
   "cell_type": "markdown",
   "metadata": {},
   "source": [
    "---"
   ]
  },
  {
   "cell_type": "markdown",
   "metadata": {},
   "source": [
    "## Survival Machine Learning Prediction"
   ]
  },
  {
   "cell_type": "markdown",
   "metadata": {},
   "source": [
    "#### Warm-up\n",
    "\n",
    "In this warm-up section, we are going to set up \n",
    "a very simple **pipeline** for Survival Machine learning Prediction"
   ]
  },
  {
   "cell_type": "markdown",
   "metadata": {},
   "source": [
    "In `sklearn` there is a predefined object specifically created to generate ML Pipelines, \n",
    "starting from feature preprocessing to model prediction (i.e. *always the last step*)."
   ]
  },
  {
   "cell_type": "code",
   "execution_count": 22,
   "metadata": {},
   "outputs": [],
   "source": [
    "from sklearn.pipeline import Pipeline\n",
    "from sklearn.preprocessing import OneHotEncoder\n",
    "from sklearn.compose import ColumnTransformer"
   ]
  },
  {
   "cell_type": "code",
   "execution_count": 23,
   "metadata": {},
   "outputs": [],
   "source": [
    "from sklearn.ensemble import RandomForestClassifier"
   ]
  },
  {
   "cell_type": "code",
   "execution_count": 24,
   "metadata": {},
   "outputs": [],
   "source": [
    "def random_forest_hf_pipeline(random_state=7, **rf_kwargs):\n",
    "    \"\"\"\"\"\"\n",
    "    encoder = OneHotEncoder(categories='auto', handle_unknown='ignore')\n",
    "\n",
    "    transformer = ColumnTransformer([('cat', encoder, categorical_features),], \n",
    "                                   remainder='passthrough')\n",
    "    return Pipeline([('preprocess', transformer),\n",
    "                     ('classifier', RandomForestClassifier(n_estimators=500, \n",
    "                                                           random_state=random_state, \n",
    "                                                           **rf_kwargs))\n",
    "                    ])\n",
    "\n",
    "rf = random_forest_hf_pipeline()"
   ]
  },
  {
   "cell_type": "markdown",
   "metadata": {},
   "source": [
    "#### Selecting only Clinical Features\n",
    "\n"
   ]
  },
  {
   "cell_type": "code",
   "execution_count": 25,
   "metadata": {},
   "outputs": [
    {
     "data": {
      "text/plain": [
       "['anaemia',\n",
       " 'high_blood_pressure',\n",
       " 'diabetes',\n",
       " 'sex',\n",
       " 'smoking',\n",
       " 'age',\n",
       " 'creatinine_phosphokinase',\n",
       " 'ejection_fraction',\n",
       " 'platelets',\n",
       " 'serum_creatinine',\n",
       " 'serum_sodium']"
      ]
     },
     "execution_count": 25,
     "metadata": {},
     "output_type": "execute_result"
    }
   ],
   "source": [
    "clinical_features = categorical_features + numerical_features[:-1]  # getting rid of \"time\" column\n",
    "clinical_features"
   ]
  },
  {
   "cell_type": "code",
   "execution_count": 26,
   "metadata": {},
   "outputs": [],
   "source": [
    "X_clinical = X[clinical_features]"
   ]
  },
  {
   "cell_type": "code",
   "execution_count": 27,
   "metadata": {},
   "outputs": [],
   "source": [
    "from sklearn.model_selection import train_test_split\n",
    "\n",
    "X_train, X_test, y_train, y_test = train_test_split(X_clinical, y, stratify=y, random_state=7)"
   ]
  },
  {
   "cell_type": "code",
   "execution_count": 28,
   "metadata": {},
   "outputs": [
    {
     "data": {
      "text/plain": [
       "(299, 11)"
      ]
     },
     "execution_count": 28,
     "metadata": {},
     "output_type": "execute_result"
    }
   ],
   "source": [
    "X_clinical.shape"
   ]
  },
  {
   "cell_type": "code",
   "execution_count": 29,
   "metadata": {},
   "outputs": [
    {
     "data": {
      "image/png": "[encoded data removed]",
      "text/plain": [
       "<Figure size 504x576 with 1 Axes>"
      ]
     },
     "metadata": {
      "needs_background": "light"
     },
     "output_type": "display_data"
    }
   ],
   "source": [
    "plot_sample_distribution(y_train, color='C0', title='Training Samples')\n",
    "plt.show()"
   ]
  },
  {
   "cell_type": "code",
   "execution_count": 31,
   "metadata": {
    "scrolled": false
   },
   "outputs": [
    {
     "data": {
      "image/png": "[encoded data removed]",
      "text/plain": [
       "<Figure size 504x576 with 1 Axes>"
      ]
     },
     "metadata": {
      "needs_background": "light"
     },
     "output_type": "display_data"
    }
   ],
   "source": [
    "plot_sample_distribution(y_test, color='C1', title='Test Samples')\n",
    "plt.show()"
   ]
  },
  {
   "cell_type": "markdown",
   "metadata": {},
   "source": [
    "###### Fit the Model\n",
    "\n",
    "The next step will be to start triggering the `pipeline` calling the `fit` method.\n",
    "`sklearn` will automatically invoke the entire pipeline, terminating with the invocation of the \n",
    "`classifier.fit` method."
   ]
  },
  {
   "cell_type": "code",
   "execution_count": 32,
   "metadata": {},
   "outputs": [
    {
     "data": {
      "text/plain": [
       "Pipeline(steps=[('preprocess',\n",
       "                 ColumnTransformer(remainder='passthrough',\n",
       "                                   transformers=[('cat',\n",
       "                                                  OneHotEncoder(handle_unknown='ignore'),\n",
       "                                                  ['anaemia',\n",
       "                                                   'high_blood_pressure',\n",
       "                                                   'diabetes', 'sex',\n",
       "                                                   'smoking'])])),\n",
       "                ('classifier',\n",
       "                 RandomForestClassifier(n_estimators=500, random_state=7))])"
      ]
     },
     "execution_count": 32,
     "metadata": {},
     "output_type": "execute_result"
    }
   ],
   "source": [
    "rf.fit(X_train, y_train)"
   ]
  },
  {
   "cell_type": "markdown",
   "metadata": {},
   "source": [
    "###### Performance Evaluation\n",
    "\n",
    "Final step of a pipeline: evaluating the performance on **training** and **test** set.\n",
    "\n",
    "In this case, we will use the `score` method of the classifier, corresponding to the \n",
    "**Accuracy Score**"
   ]
  },
  {
   "cell_type": "markdown",
   "metadata": {},
   "source": [
    "###### Short Recap\n",
    "\n",
    "If $\\hat{y}_i$ corresponds to the prediction generated by the model for $i-th$ sample, and $y_i$ the corresponding **expected** target in the ground-truth, the **Accuracy** is defined as:\n",
    "\n",
    "$$\n",
    "\\mathtt{accuracy}(y, \\hat{y}) = \\frac{1}{n_{samples}} \\sum_{i=0}^{n_{samples}} 1(\\hat{y_i} = y_i)\n",
    "$$\n",
    "\n",
    "where $1(x)$ is the **indicator function**"
   ]
  },
  {
   "cell_type": "code",
   "execution_count": 33,
   "metadata": {},
   "outputs": [
    {
     "name": "stdout",
     "output_type": "stream",
     "text": [
      "RF train accuracy: 1.000\n",
      "RF test accuracy: 0.653\n"
     ]
    }
   ],
   "source": [
    "print(\"RF train accuracy: %0.3f\" % rf.score(X_train, y_train))\n",
    "print(\"RF test accuracy: %0.3f\" % rf.score(X_test, y_test))"
   ]
  },
  {
   "cell_type": "markdown",
   "metadata": {},
   "source": [
    "**Looks promising**, doesn't it?"
   ]
  },
  {
   "cell_type": "code",
   "execution_count": 112,
   "metadata": {},
   "outputs": [],
   "source": [
    "ohe = rf.named_steps['preprocess'].named_transformers_['cat']\n",
    "feature_names = ohe.get_feature_names(input_features=categorical_features)"
   ]
  },
  {
   "cell_type": "code",
   "execution_count": 113,
   "metadata": {},
   "outputs": [
    {
     "data": {
      "text/plain": [
       "array(['anaemia_0', 'anaemia_1', 'high_blood_pressure_0',\n",
       "       'high_blood_pressure_1', 'diabetes_0', 'diabetes_1', 'sex_0',\n",
       "       'sex_1', 'smoking_0', 'smoking_1'], dtype=object)"
      ]
     },
     "execution_count": 113,
     "metadata": {},
     "output_type": "execute_result"
    }
   ],
   "source": [
    "feature_names"
   ]
  },
  {
   "cell_type": "code",
   "execution_count": 114,
   "metadata": {},
   "outputs": [],
   "source": [
    "feature_names = np.r_[feature_names, numerical_features[:-1]]"
   ]
  },
  {
   "cell_type": "code",
   "execution_count": 115,
   "metadata": {},
   "outputs": [
    {
     "data": {
      "text/plain": [
       "array(['anaemia_0', 'anaemia_1', 'high_blood_pressure_0',\n",
       "       'high_blood_pressure_1', 'diabetes_0', 'diabetes_1', 'sex_0',\n",
       "       'sex_1', 'smoking_0', 'smoking_1', 'age',\n",
       "       'creatinine_phosphokinase', 'ejection_fraction', 'platelets',\n",
       "       'serum_creatinine', 'serum_sodium'], dtype=object)"
      ]
     },
     "execution_count": 115,
     "metadata": {},
     "output_type": "execute_result"
    }
   ],
   "source": [
    "feature_names"
   ]
  },
  {
   "cell_type": "code",
   "execution_count": 116,
   "metadata": {},
   "outputs": [
    {
     "data": {
      "text/plain": [
       "(16,)"
      ]
     },
     "execution_count": 116,
     "metadata": {},
     "output_type": "execute_result"
    }
   ],
   "source": [
    "feature_names.shape"
   ]
  },
  {
   "cell_type": "code",
   "execution_count": 117,
   "metadata": {},
   "outputs": [],
   "source": [
    "tree_feature_importances = (\n",
    "    rf.named_steps['classifier'].feature_importances_)\n",
    "sorted_idx = tree_feature_importances.argsort()"
   ]
  },
  {
   "cell_type": "code",
   "execution_count": 118,
   "metadata": {},
   "outputs": [
    {
     "data": {
      "text/plain": [
       "16"
      ]
     },
     "execution_count": 118,
     "metadata": {},
     "output_type": "execute_result"
    }
   ],
   "source": [
    "len(sorted_idx)"
   ]
  },
  {
   "cell_type": "code",
   "execution_count": 119,
   "metadata": {},
   "outputs": [
    {
     "data": {
      "image/png": "[encoded data removed]",
      "text/plain": [
       "<Figure size 720x576 with 1 Axes>"
      ]
     },
     "metadata": {
      "needs_background": "light"
     },
     "output_type": "display_data"
    }
   ],
   "source": [
    "y_ticks = np.arange(0, len(feature_names))\n",
    "fig, ax = plt.subplots(figsize=(10, 8))\n",
    "ax.barh(y_ticks, tree_feature_importances[sorted_idx])\n",
    "ax.set_yticklabels(feature_names[sorted_idx])\n",
    "ax.set_yticks(y_ticks)\n",
    "ax.set_title(\"Random Forest Feature Importances (MDI)\")\n",
    "fig.tight_layout()\n",
    "plt.show()"
   ]
  },
  {
   "cell_type": "code",
   "execution_count": 120,
   "metadata": {},
   "outputs": [],
   "source": [
    "from sklearn.inspection import permutation_importance\n",
    "\n",
    "from sklearn.metrics import accuracy_score as acc\n",
    "from sklearn.metrics import matthews_corrcoef as mcc"
   ]
  },
  {
   "cell_type": "code",
   "execution_count": 121,
   "metadata": {},
   "outputs": [],
   "source": [
    "from sklearn.metrics import make_scorer\n",
    "\n",
    "mcc_scorer = make_scorer(mcc)"
   ]
  },
  {
   "cell_type": "code",
   "execution_count": 122,
   "metadata": {},
   "outputs": [],
   "source": [
    "result = permutation_importance(rf, X_test, y_test, n_repeats=10,\n",
    "                                random_state=7, n_jobs=2)\n",
    "sorted_idx = np.argsort(result.importances_mean)[::-1]"
   ]
  },
  {
   "cell_type": "code",
   "execution_count": 123,
   "metadata": {},
   "outputs": [
    {
     "data": {
      "image/png": "[encoded data removed]",
      "text/plain": [
       "<Figure size 720x576 with 1 Axes>"
      ]
     },
     "metadata": {
      "needs_background": "light"
     },
     "output_type": "display_data"
    }
   ],
   "source": [
    "fig, ax = plt.subplots(figsize=(10, 8))\n",
    "ax.boxplot(result.importances[sorted_idx].T,\n",
    "           vert=False, labels=X_test.columns[sorted_idx])\n",
    "ax.set_title(\"Permutation Importances (test set)\")\n",
    "fig.tight_layout()\n",
    "plt.show()"
   ]
  },
  {
   "cell_type": "markdown",
   "metadata": {},
   "source": [
    "---\n",
    "\n",
    "#### ML Prediction on all Clinical Features"
   ]
  },
  {
   "cell_type": "code",
   "execution_count": 124,
   "metadata": {},
   "outputs": [],
   "source": [
    "X_clinical = X[clinical_features]"
   ]
  },
  {
   "cell_type": "code",
   "execution_count": 125,
   "metadata": {},
   "outputs": [],
   "source": [
    "from sklearn.ensemble import RandomForestClassifier"
   ]
  },
  {
   "cell_type": "code",
   "execution_count": 126,
   "metadata": {},
   "outputs": [],
   "source": [
    "from sklearn.model_selection import train_test_split"
   ]
  },
  {
   "cell_type": "code",
   "execution_count": 147,
   "metadata": {},
   "outputs": [],
   "source": [
    "from sklearn.base import ClassifierMixin as Classifier\n",
    "from collections import namedtuple\n",
    "\n",
    "Prediction = namedtuple(\"Prediction\", [\"model\", \"y_hat\", \"y_true\"])"
   ]
  },
  {
   "cell_type": "code",
   "execution_count": 148,
   "metadata": {},
   "outputs": [
    {
     "name": "stdout",
     "output_type": "stream",
     "text": [
      "Train/Test Split 100 |========================================| 100%"
     ]
    }
   ],
   "source": [
    "import sys \n",
    "\n",
    "predictions_all = []\n",
    "LEN_BAR = 40 \n",
    "N_SPLITS = 100\n",
    "\n",
    "for split_index in range(1, N_SPLITS+1):\n",
    "    \n",
    "    X_train, X_test, y_train, y_test = train_test_split(X_clinical, y, test_size=.2, \n",
    "                                                        stratify=y, \n",
    "                                                        random_state=split_index)\n",
    "    \n",
    "    rf = random_forest_hf_pipeline(random_state=split_index)\n",
    "    rf.fit(X_train, y_train)\n",
    "    y_hat = rf.predict(X_test)\n",
    "    prediction = Prediction(model=rf, y_hat=y_hat, y_true=y_test)\n",
    "    predictions_all.append(prediction)\n",
    "    \n",
    "    frac = split_index/N_SPLITS\n",
    "    n_progress = int(frac*LEN_BAR)\n",
    "    message = ('Train/Test Split {} |{}{}{}| {}%'.format(split_index, '='*n_progress,\n",
    "                                                         '>' if n_progress < LEN_BAR else '',\n",
    "                                                         '.'*max(0, LEN_BAR - n_progress - 1),\n",
    "                                                         int(frac*100),))\n",
    "    sys.stdout.write('\\r' + message)\n",
    "    sys.stdout.flush()\n",
    "    "
   ]
  },
  {
   "cell_type": "code",
   "execution_count": 149,
   "metadata": {},
   "outputs": [
    {
     "data": {
      "text/plain": [
       "100"
      ]
     },
     "execution_count": 149,
     "metadata": {},
     "output_type": "execute_result"
    }
   ],
   "source": [
    "len(predictions_all)"
   ]
  },
  {
   "cell_type": "code",
   "execution_count": 150,
   "metadata": {},
   "outputs": [],
   "source": [
    "from sklearn.metrics import accuracy_score, confusion_matrix\n",
    "from sklearn.metrics import matthews_corrcoef as mcc"
   ]
  },
  {
   "cell_type": "code",
   "execution_count": 151,
   "metadata": {},
   "outputs": [],
   "source": [
    "def bootstrap_ci(x, B=1000, alpha=0.05, seed=0):\n",
    "    \"\"\"Computes the (1-alpha) Bootstrap confidence interval\n",
    "    from empirical bootstrap distribution of sample mean. \n",
    "        \n",
    "    The lower and upper confidence bounds are the (B*alpha/2)-th \n",
    "    and B * (1-alpha/2)-th ordered means, respectively.\n",
    "    For B = 1000 and alpha = 0.05 these are the 25th and 975th\n",
    "    ordered means.\n",
    "    \"\"\"\n",
    "    \n",
    "    x_arr = np.ravel(x)\n",
    "\n",
    "    if B < 2:\n",
    "        raise ValueError(\"B must be >= 2\")\n",
    "    \n",
    "    if alpha < 0 or alpha > 1:\n",
    "        raise ValueError(\"alpha must be in [0, 1]\")\n",
    "\n",
    "    np.random.seed(seed)\n",
    "    \n",
    "    bmean = np.empty(B, dtype=np.float)\n",
    "    for b in range(B):\n",
    "        idx = np.random.randint(0, x_arr.shape[0]-1, x_arr.shape[0])\n",
    "        bmean[b] = np.mean(x_arr[idx])\n",
    "        \n",
    "    bmean.sort()\n",
    "    lower = int(B * (alpha * 0.5))\n",
    "    upper = int(B * (1 - (alpha * 0.5)))\n",
    "    \n",
    "    return bmean[lower], bmean[upper]"
   ]
  },
  {
   "cell_type": "code",
   "execution_count": 152,
   "metadata": {},
   "outputs": [],
   "source": [
    "mcc_all = np.asarray([mcc(p.y_true, p.y_hat) for p in predictions_all])\n",
    "acc_all = np.asarray([accuracy_score(p.y_true, p.y_hat) for p in predictions_all])"
   ]
  },
  {
   "cell_type": "code",
   "execution_count": 153,
   "metadata": {},
   "outputs": [
    {
     "name": "stdout",
     "output_type": "stream",
     "text": [
      "ACC\t(+- CI)\n",
      "0.731 (0.723; 0.741)\n",
      "\n",
      "MCC\t(+- CI)\n",
      "0.344 (0.322; 0.369)\n"
     ]
    }
   ],
   "source": [
    "print('ACC\\t(+- CI)\\n{:.3f} ({:.3f}; {:.3f})'.format(acc_all.mean(), *bootstrap_ci(acc_all)))\n",
    "print()\n",
    "print('MCC\\t(+- CI)\\n{:.3f} ({:.3f}; {:.3f})'.format(mcc_all.mean(), *bootstrap_ci(mcc_all)))"
   ]
  },
  {
   "cell_type": "code",
   "execution_count": 170,
   "metadata": {},
   "outputs": [],
   "source": [
    "\"\"\"Python/Numpy implementation of the Borda Count\"\"\"\n",
    "\n",
    "import numpy as np\n",
    "from nptyping import NDArray\n",
    "from typing import Tuple, Union, List, Any\n",
    "\n",
    "RankingsList = Union[NDArray[(Any, Any), np.int], List[List[int]]]\n",
    "Ranking = NDArray[(Any,), np.int]\n",
    "Counts = NDArray[(Any,), np.int]\n",
    "AveragePositions = NDArray[(Any,), np.float]\n",
    "Borda = Tuple[Ranking, Counts, AveragePositions]\n",
    "\n",
    "\n",
    "def borda(X: RankingsList, min_score: float = 1, k: int = None) -> Borda:\n",
    "    \"\"\"Given N ranked ids lists of length P compute the number of\n",
    "    extractions on top-k positions and the mean position for each id.\n",
    "    Sort the element ids (in reversed DECREASING order) based on the\n",
    "    Borda Extraction Scores (BES). IDs having the same BES will be sorted\n",
    "    by their increasing average position (i.e. the average of the position\n",
    "    of each ID in all the rankings).\n",
    "    Parameters\n",
    "    ----------\n",
    "    X : Numpy array of integer with shape [N, P] or List of Lists\n",
    "        The list of rankings\n",
    "    min_score: float, optional\n",
    "        Minimum score considered for IDs (Default is 1)\n",
    "    k : int, optional\n",
    "        Top-K positions to select.\n",
    "        Default is None, which means that all the positions will be\n",
    "        selected (i.e. k = P)\n",
    "    Returns\n",
    "    -------\n",
    "    Borda\n",
    "        A tuple containing three NDarray:\n",
    "        1. Sorted IDs, i.e. the Borda Ranking;\n",
    "        2. The number of Extractions, i.e. Count;\n",
    "        3. The average positions of each ID.\n",
    "    Raises\n",
    "    ------\n",
    "    ValueError\n",
    "        If k < 1 or k > p\n",
    "    ValueError\n",
    "        If X contains duplicate IDs\n",
    "    \"\"\"\n",
    "\n",
    "    x_np = np.asarray(X)  # make sure X is a Numpy array for efficiency\n",
    "    n, p = x_np.shape\n",
    "    if k is None:\n",
    "        k = p\n",
    "    if not 1 <= k <= p:\n",
    "        raise ValueError(f\"k must be in [1, {p}], {k} given instead!\")\n",
    "    # Verify that ranked lists do no contain repetitions\n",
    "    unique_ids = np.asarray([len(set(r)) for r in x_np[:]])\n",
    "    if len(unique_ids[unique_ids < p]):\n",
    "        raise ValueError(\n",
    "            f\"IDs in list of rankings are not unique! Unique IDs found: {unique_ids}\"\n",
    "        )\n",
    "\n",
    "    positions = np.argsort(x_np, axis=1)\n",
    "    # Select TopK by forcing positions of others to last position\n",
    "    positions[positions >= k] = p\n",
    "    # Calculate scores of extractions in each ranking based on their relative position\n",
    "    exts = (p - positions - 1 + min_score).sum(axis=0)\n",
    "    # Count total number of valid extractions\n",
    "    counts = (positions < k).sum(axis=0)\n",
    "    # Reset all non-valid positions (>=k) for TopK selection\n",
    "    positions[positions >= k] = 0\n",
    "    # Calculate Average positions of each element in each ranking\n",
    "    non_zero_counts = counts != 0\n",
    "    avg_positions = positions.sum(axis=0) / np.where(non_zero_counts, counts, 1)\n",
    "    avg_positions[~non_zero_counts] = p - 1\n",
    "    # Sort rankings based on average positions, and extraction scores\n",
    "    idx = np.lexsort((avg_positions, exts))[::-1]\n",
    "\n",
    "    return idx, counts[idx], avg_positions[idx]"
   ]
  },
  {
   "cell_type": "code",
   "execution_count": 162,
   "metadata": {},
   "outputs": [],
   "source": [
    "feature_rankings = [np.argsort(p.model.named_steps['classifier'].feature_importances_)[::-1]\n",
    "                    for p in predictions_all]"
   ]
  },
  {
   "cell_type": "code",
   "execution_count": 165,
   "metadata": {},
   "outputs": [
    {
     "data": {
      "text/plain": [
       "(100, 16)"
      ]
     },
     "execution_count": 165,
     "metadata": {},
     "output_type": "execute_result"
    }
   ],
   "source": [
    "feature_rankings = np.vstack(feature_rankings)\n",
    "feature_rankings.shape"
   ]
  },
  {
   "cell_type": "code",
   "execution_count": 171,
   "metadata": {},
   "outputs": [],
   "source": [
    "borda_ranking, _, _ = borda(feature_rankings)"
   ]
  },
  {
   "cell_type": "code",
   "execution_count": 167,
   "metadata": {},
   "outputs": [
    {
     "data": {
      "text/plain": [
       "16"
      ]
     },
     "execution_count": 167,
     "metadata": {},
     "output_type": "execute_result"
    }
   ],
   "source": [
    "len(borda_ranking)"
   ]
  },
  {
   "cell_type": "code",
   "execution_count": 169,
   "metadata": {},
   "outputs": [
    {
     "name": "stdout",
     "output_type": "stream",
     "text": [
      "['serum_creatinine' 'ejection_fraction' 'age' 'creatinine_phosphokinase'\n",
      " 'platelets' 'serum_sodium' 'diabetes_0' 'diabetes_1'\n",
      " 'high_blood_pressure_0' 'anaemia_1' 'high_blood_pressure_1' 'anaemia_0'\n",
      " 'sex_0' 'sex_1' 'smoking_0' 'smoking_1']\n"
     ]
    }
   ],
   "source": [
    "print(feature_names[borda_ranking])"
   ]
  },
  {
   "cell_type": "markdown",
   "metadata": {},
   "source": [
    "### Logistic Regression (as a NN)"
   ]
  },
  {
   "cell_type": "code",
   "execution_count": 271,
   "metadata": {},
   "outputs": [],
   "source": [
    "import torch\n",
    "from torch import nn\n",
    "from torch import functional as F"
   ]
  },
  {
   "cell_type": "code",
   "execution_count": 272,
   "metadata": {},
   "outputs": [],
   "source": [
    "class LogisticNet(nn.Module):\n",
    "    \n",
    "    def __init__(self, in_features):\n",
    "        super(LogisticNet, self).__init__()\n",
    "        self.fc = nn.Linear(in_features, 1)\n",
    "        \n",
    "    def forward(self, x, apply_logistic=False):\n",
    "        x = self.fc(x)\n",
    "        if apply_logistic:\n",
    "            x = torch.sigmoid(x)\n",
    "        return x"
   ]
  },
  {
   "cell_type": "code",
   "execution_count": 273,
   "metadata": {},
   "outputs": [],
   "source": [
    "model = LogisticNet(in_features=2)"
   ]
  },
  {
   "cell_type": "code",
   "execution_count": 274,
   "metadata": {},
   "outputs": [
    {
     "data": {
      "text/plain": [
       "Index(['anaemia', 'high_blood_pressure', 'diabetes', 'sex', 'smoking', 'age',\n",
       "       'creatinine_phosphokinase', 'ejection_fraction', 'platelets',\n",
       "       'serum_creatinine', 'serum_sodium'],\n",
       "      dtype='object')"
      ]
     },
     "execution_count": 274,
     "metadata": {},
     "output_type": "execute_result"
    }
   ],
   "source": [
    "X_clinical.columns"
   ]
  },
  {
   "cell_type": "code",
   "execution_count": 275,
   "metadata": {},
   "outputs": [],
   "source": [
    "X_top_features = X_clinical.loc[:, ['serum_creatinine', 'ejection_fraction']]"
   ]
  },
  {
   "cell_type": "code",
   "execution_count": 276,
   "metadata": {},
   "outputs": [
    {
     "data": {
      "text/html": [
       "<div>\n",
       "<style scoped>\n",
       "    .dataframe tbody tr th:only-of-type {\n",
       "        vertical-align: middle;\n",
       "    }\n",
       "\n",
       "    .dataframe tbody tr th {\n",
       "        vertical-align: top;\n",
       "    }\n",
       "\n",
       "    .dataframe thead th {\n",
       "        text-align: right;\n",
       "    }\n",
       "</style>\n",
       "<table border=\"1\" class=\"dataframe\">\n",
       "  <thead>\n",
       "    <tr style=\"text-align: right;\">\n",
       "      <th></th>\n",
       "      <th>serum_creatinine</th>\n",
       "      <th>ejection_fraction</th>\n",
       "    </tr>\n",
       "  </thead>\n",
       "  <tbody>\n",
       "    <tr>\n",
       "      <th>0</th>\n",
       "      <td>1.9</td>\n",
       "      <td>20</td>\n",
       "    </tr>\n",
       "    <tr>\n",
       "      <th>1</th>\n",
       "      <td>1.1</td>\n",
       "      <td>38</td>\n",
       "    </tr>\n",
       "    <tr>\n",
       "      <th>2</th>\n",
       "      <td>1.3</td>\n",
       "      <td>20</td>\n",
       "    </tr>\n",
       "    <tr>\n",
       "      <th>3</th>\n",
       "      <td>1.9</td>\n",
       "      <td>20</td>\n",
       "    </tr>\n",
       "    <tr>\n",
       "      <th>4</th>\n",
       "      <td>2.7</td>\n",
       "      <td>20</td>\n",
       "    </tr>\n",
       "    <tr>\n",
       "      <th>...</th>\n",
       "      <td>...</td>\n",
       "      <td>...</td>\n",
       "    </tr>\n",
       "    <tr>\n",
       "      <th>294</th>\n",
       "      <td>1.1</td>\n",
       "      <td>38</td>\n",
       "    </tr>\n",
       "    <tr>\n",
       "      <th>295</th>\n",
       "      <td>1.2</td>\n",
       "      <td>38</td>\n",
       "    </tr>\n",
       "    <tr>\n",
       "      <th>296</th>\n",
       "      <td>0.8</td>\n",
       "      <td>60</td>\n",
       "    </tr>\n",
       "    <tr>\n",
       "      <th>297</th>\n",
       "      <td>1.4</td>\n",
       "      <td>38</td>\n",
       "    </tr>\n",
       "    <tr>\n",
       "      <th>298</th>\n",
       "      <td>1.6</td>\n",
       "      <td>45</td>\n",
       "    </tr>\n",
       "  </tbody>\n",
       "</table>\n",
       "<p>299 rows × 2 columns</p>\n",
       "</div>"
      ],
      "text/plain": [
       "     serum_creatinine  ejection_fraction\n",
       "0                 1.9                 20\n",
       "1                 1.1                 38\n",
       "2                 1.3                 20\n",
       "3                 1.9                 20\n",
       "4                 2.7                 20\n",
       "..                ...                ...\n",
       "294               1.1                 38\n",
       "295               1.2                 38\n",
       "296               0.8                 60\n",
       "297               1.4                 38\n",
       "298               1.6                 45\n",
       "\n",
       "[299 rows x 2 columns]"
      ]
     },
     "execution_count": 276,
     "metadata": {},
     "output_type": "execute_result"
    }
   ],
   "source": [
    "X_top_features"
   ]
  },
  {
   "cell_type": "code",
   "execution_count": 292,
   "metadata": {},
   "outputs": [],
   "source": [
    "X_top_train, X_top_test, y_train, y_test = train_test_split(X_top_features, y, \n",
    "                                                            test_size=.2, \n",
    "                                                            stratify=y, random_state=42)"
   ]
  },
  {
   "cell_type": "code",
   "execution_count": 293,
   "metadata": {},
   "outputs": [],
   "source": [
    "X_top_train, X_top_val, y_train, y_val = train_test_split(X_top_train, y_train, \n",
    "                                                          test_size=.2,\n",
    "                                                          stratify=y_train, random_state=42)"
   ]
  },
  {
   "cell_type": "code",
   "execution_count": 294,
   "metadata": {},
   "outputs": [],
   "source": [
    "from torch.utils.data import TensorDataset, DataLoader"
   ]
  },
  {
   "cell_type": "code",
   "execution_count": 295,
   "metadata": {},
   "outputs": [],
   "source": [
    "training_set = TensorDataset(torch.from_numpy(X_top_train.values),\n",
    "                             torch.from_numpy(y_train.values[..., np.newaxis]))\n",
    "train_loader = DataLoader(training_set, batch_size=4, \n",
    "                          drop_last=False, shuffle=True)"
   ]
  },
  {
   "cell_type": "code",
   "execution_count": 298,
   "metadata": {},
   "outputs": [],
   "source": [
    "validation_set = TensorDataset(torch.from_numpy(X_top_val.values), \n",
    "                               torch.from_numpy(y_val.values[..., np.newaxis]))\n",
    "val_loader = DataLoader(validation_set, batch_size=4, drop_last=False, shuffle=False)"
   ]
  },
  {
   "cell_type": "code",
   "execution_count": 299,
   "metadata": {},
   "outputs": [],
   "source": [
    "test_set = TensorDataset(torch.from_numpy(X_top_test.values),\n",
    "                         torch.from_numpy(y_test.values[..., np.newaxis]))\n",
    "test_loader = DataLoader(test_set, batch_size=4, drop_last=False, shuffle=False)"
   ]
  },
  {
   "cell_type": "code",
   "execution_count": 300,
   "metadata": {},
   "outputs": [],
   "source": [
    "learning_rate = 1e-4\n",
    "n_epochs = 20\n",
    "\n",
    "bce_loss = nn.BCEWithLogitsLoss()\n",
    "optimiser = torch.optim.SGD(model.parameters(), lr=learning_rate)"
   ]
  },
  {
   "cell_type": "code",
   "execution_count": 301,
   "metadata": {},
   "outputs": [],
   "source": [
    "import os \n",
    "MODEL_FOLDER = os.path.join(os.path.abspath(os.path.dirname('__file__')), 'hfc_torch_model')\n",
    "os.makedirs(MODEL_FOLDER, exist_ok=True)\n",
    "\n",
    "\n",
    "model_file = os.path.join(MODEL_FOLDER, 'hfc_logistic_net_trained.model')"
   ]
  },
  {
   "cell_type": "code",
   "execution_count": null,
   "metadata": {},
   "outputs": [],
   "source": [
    "from IPython.display import clear_output\n",
    "\n",
    "def show_summary(model, train_loss, print_test=False):\n",
    "    clear_output()\n",
    "    print('================= Summary =================')\n",
    "    print('Training loss: {}'.format(train_loss/len(train_set)))\n",
    "    compute_metrics(model, val_loader, 'Validation', len(valid_set))\n",
    "    if print_test:\n",
    "        compute_metrics(model, test_loader, 'Test', len(test_set))\n",
    "    print('===========================================')\n",
    "    print()"
   ]
  },
  {
   "cell_type": "code",
   "execution_count": 290,
   "metadata": {},
   "outputs": [
    {
     "name": "stdout",
     "output_type": "stream",
     "text": [
      " Validation MCC: 0.21477918909913551=======>......| 83.33% (Batch Loss: 0.55787, Average Loss: 0.56085)"
     ]
    }
   ],
   "source": [
    "import sys\n",
    "\n",
    "LEN_BAR = 40\n",
    "\n",
    "for e in range(1, n_epochs+1):\n",
    "    total_train_loss = 0\n",
    "    n_samples = 0\n",
    "    \n",
    "    for i, train_batch in enumerate(train_loader):\n",
    "        x_train, y_train = train_batch\n",
    "        n_samples += len(x_train)\n",
    "\n",
    "        # Call the Model to calculate the logits\n",
    "        logits = model(x_train.float())\n",
    "        loss = bce_loss(logits, y_train.float())\n",
    "        total_train_loss += loss.item() * len(x_train)\n",
    "        \n",
    "        # Zero gradients, perform a backward pass, and update the weights.\n",
    "        optimiser.zero_grad() \n",
    "        # Activate Backward Prop.\n",
    "        loss.backward()\n",
    "        # Trigger a step for the optimiser\n",
    "        optimiser.step()\n",
    "\n",
    "        if i % 10 == 0:  # Checkpoint\n",
    "            frac = i/len(train_loader)\n",
    "            n_progress = int(frac*LEN_BAR)\n",
    "            message = ('Epoch {} |{}{}{}| {:0.2f}% (Batch Loss: {:0.5f}, Average Loss: {:0.5f})'.format(\n",
    "                e,\n",
    "                '='*n_progress,\n",
    "                '>' if n_progress < LEN_BAR else '',\n",
    "                '.'*max(0, LEN_BAR - n_progress - 1),\n",
    "                frac*100,\n",
    "                loss.item(),\n",
    "                total_train_loss/n_samples\n",
    "            ))\n",
    "            sys.stdout.write('\\r' + message)\n",
    "            sys.stdout.flush()\n",
    "            # Save Checkpoint\n",
    "            torch.save(model.state_dict(), model_file) # save\n",
    "            \n",
    "    if e > 1 and (e % 5 == 0):\n",
    "        with torch.no_grad():\n",
    "            acc_valid = []\n",
    "            mcc_valid = []\n",
    "            for i, val_batch in enumerate(val_loader):\n",
    "                x_val, y_val = val_batch\n",
    "                y_pred_val = model(x_val.float(), apply_logistic=True)\n",
    "                y_pred_val = y_pred_val.numpy()\n",
    "                y_pred_val[y_pred_val < .5] = 0\n",
    "                y_pred_val[y_pred_val >= .5] = 1\n",
    "                # evaluate accuracy and MCC metrics on validation batch\n",
    "                acc_batch = acc(y_val.numpy(), y_pred_val)\n",
    "                mcc_batch = mcc(y_val.numpy(), y_pred_val)\n",
    "                # add to the list\n",
    "                mcc_valid.append(mcc_batch)\n",
    "                acc_valid.append(acc_batch)\n",
    "            sys.stdout.flush()\n",
    "            sys.stdout.write('\\r Validation ACC: {}'.format(np.mean(np.asarray(acc_valid))))\n",
    "            sys.stdout.write('\\r Validation MCC: {}'.format(np.mean(np.asarray(mcc_valid))))\n",
    "    \n",
    "torch.save(model.state_dict(), model_file) # save"
   ]
  },
  {
   "cell_type": "code",
   "execution_count": 289,
   "metadata": {},
   "outputs": [
    {
     "name": "stdout",
     "output_type": "stream",
     "text": [
      "Test ACC:  0.7\n",
      "Test MCC:  0.10515668461264172\n"
     ]
    }
   ],
   "source": [
    "with torch.no_grad():\n",
    "    acc_test= []\n",
    "    mcc_test = []\n",
    "    for i, test_batch in enumerate(test_loader):\n",
    "        x_test, y_test = test_batch\n",
    "        y_pred_test = model(x_test.float(), apply_logistic=True)\n",
    "        y_pred_test = y_pred_test.numpy()\n",
    "        y_pred_test[y_pred_test < .5] = 0\n",
    "        y_pred_test[y_pred_test >= .5] = 1\n",
    "        \n",
    "        # evaluate accuracy and MCC metrics on validation batch\n",
    "        acc_batch = acc(y_test.numpy(), y_pred_test)\n",
    "        mcc_batch = mcc(y_test.numpy(), y_pred_test)\n",
    "        # add to the list\n",
    "        mcc_test.append(mcc_batch)\n",
    "        acc_test.append(acc_batch)\n",
    "    print('Test ACC: ', np.mean(np.asarray(acc_test)))\n",
    "    print('Test MCC: ', np.mean(np.asarray(mcc_test)))"
   ]
  },
  {
   "cell_type": "code",
   "execution_count": null,
   "metadata": {},
   "outputs": [],
   "source": []
  }
 ],
 "metadata": {
  "kernelspec": {
   "display_name": "Python 3.7 (DL BioMed)",
   "language": "python",
   "name": "dl-biomed"
  },
  "language_info": {
   "codemirror_mode": {
    "name": "ipython",
    "version": 3
   },
   "file_extension": ".py",
   "mimetype": "text/x-python",
   "name": "python",
   "nbconvert_exporter": "python",
   "pygments_lexer": "ipython3",
   "version": "3.7.6"
  }
 },
 "nbformat": 4,
 "nbformat_minor": 4
}
