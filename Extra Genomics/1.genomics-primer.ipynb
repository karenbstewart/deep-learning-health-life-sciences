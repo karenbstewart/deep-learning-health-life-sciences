{
 "cells": [
  {
   "cell_type": "markdown",
   "metadata": {},
   "source": [
    "###### Prologue:\n",
    "\n",
    "Even if you are not a biologist (or you are not into biology at all), at some point in your education you probably studied the basic principles of DNA, and how genomes operate.\n",
    "\n",
    "Most likely you've been taught something which is sometimes also referred to as the **Central Dogma of Molecular Biology**. We will start from that, and them we will see that the picture is a bit more complex in the real world.\n",
    "\n",
    "Of course, the aim of this section is far from teaching biology - and for that, a *non*-exahustive dissertation will be provided. On the contrary, we will incrementally introduce elements of analysis with the sole purpose of **understanding** the \"data\" that we will be talking about; which will be further examined from the perspective of Machine Learning."
   ]
  },
  {
   "cell_type": "markdown",
   "metadata": {},
   "source": [
    "# Introduction to Genomics"
   ]
  },
  {
   "cell_type": "markdown",
   "metadata": {},
   "source": [
    "**A Computational Perspective**"
   ]
  },
  {
   "cell_type": "markdown",
   "metadata": {},
   "source": [
    "At the heart of every living organism there is the **genome**: molecules of DNA containing **all the instructions** to make the organisms' working parts.\n",
    "\n",
    "Since I am not a Biologist - nor a Computational Biologist by training - I will introduce to the main concepts of **Genetics** and **Genomics** by making comparison to what I do know better: **Computer Science**. "
   ]
  },
  {
   "cell_type": "markdown",
   "metadata": {},
   "source": [
    "> The introductory part of this notebook references, and takes inspiration from the brilliant article by Bert Hubert: \n",
    ">\n",
    ">_\"The DNA seen through the eyes of a coder\" or \"If you are a hammer, everything looks like a nail\"_ \n",
    "\n",
    "Original [article](https://ds9a.nl/amazing-dna/)"
   ]
  },
  {
   "cell_type": "markdown",
   "metadata": {},
   "source": [
    "### The DNA seen through the eyes of a Coder"
   ]
  },
  {
   "cell_type": "markdown",
   "metadata": {},
   "source": [
    "<img src=\"imgs/dna_coder_cover.png\" alt=\"Cover\" title=\"DNA seen through the eyes of a coder\" />"
   ]
  },
  {
   "cell_type": "markdown",
   "metadata": {},
   "source": [
    "The DNA is a polymer: a long chain of repeating units tied together on a **repetitive backbone**. \n",
    "\n",
    "In the case of DNA, these units ( _bases_ ) are Thymine (`T`), Cytosine (`C`), Guanine (`G`), and Adenine (`A`). \n",
    "Nearly all the information about how to make a living organism is ultimately encoded in the specific pattern of these four bases, which make up a **genome**.\n",
    "\n",
    "<img src=\"https://upload.wikimedia.org/wikipedia/commons/e/e4/DNA_chemical_structure.svg\" width=\"35%\" />\n",
    "<!-- caption text=\"The chemical structure of DNA (image by Madeleine Price Ball, used under the terms of the CC0 public domain license)\" -->\n",
    "\n",
    "In this scenario, the **DNA** can be seen as a _software_, containing all the sets of information meant to be processed by a **computer** (i.e. the **cell**)"
   ]
  },
  {
   "cell_type": "markdown",
   "metadata": {},
   "source": [
    "### Genetics vs Genomics"
   ]
  },
  {
   "cell_type": "markdown",
   "metadata": {},
   "source": [
    "Once and for all, let's clarify what is the difference between **Genetics** and **Genomics**.\n",
    "\n",
    "The genome is a complex machine, composed by lots of parts; and so far there is so much we can say about how those parts actually work, or how they all come together a a bigger working unit.\n",
    "\n",
    "This leads to the twin fields of **genetics** and **genomics**:\n",
    "\n",
    "- Genetics treats DNA as _abstract information_ . Therefore, genetics looks at pattern of inheritance, or seek corelations across populations, to discover the connections between DNA and physical environments.\n",
    "\n",
    "- Genomics views the genome as a physical machine. So, it tries to undertand the pieces that make up the machinery, and the ways they do cooperate.\n",
    "\n",
    "_Side Note_ : These two perspectives are complementary, and Deep learning can be powerful tool for both."
   ]
  },
  {
   "cell_type": "markdown",
   "metadata": {},
   "source": [
    "### 1. The language of the DNA"
   ]
  },
  {
   "cell_type": "markdown",
   "metadata": {},
   "source": [
    "The language of DNA is **digital**, but **not binary**. \n",
    "\n",
    "Where binary encoding has `0` and `1` to work with, DNA has `4` positions: `T`, `C`, `G` and `A`.\n",
    "\n",
    "Whereas a digital byte is mostly `8` binary digits, a DNA \"byte\" (called a **codon**) has `3` digits. \n",
    "\n",
    "Because each digit can have `4` values instead of `2`, an DNA codon has `64` possible values (i.e. $4^3$), \n",
    "compared to a binary byte which has `256` (i.e. $2^8$).\n",
    "\n"
   ]
  },
  {
   "cell_type": "markdown",
   "metadata": {},
   "source": [
    "### 2. `fork` and `fork bombs` (a.k.a. Tumors)"
   ]
  },
  {
   "cell_type": "markdown",
   "metadata": {},
   "source": [
    "Like with Unix, cells are not _spawned_ - they are **forked**. \n",
    "\n",
    "Like processes, both halves of the `fork()` are (mostly) identical to begin with, but they may from then on decide to do different things.\n",
    "\n",
    "As with Unix, great problems arise when cells keep on forking. They quickly exhaust resources, sometimes leading to death. This is called a **tumor**. The cell is riddled with `ulimits` and `watchdogs` to prevent this sort of thing from happening.\n",
    "\n",
    "A cell cannot clone unless very stringent conditions are met - a **secure by default** configuration (similar to OpenBSD). \n",
    "\n",
    "It is only when these safeguards fail that tumors can grow."
   ]
  },
  {
   "cell_type": "markdown",
   "metadata": {},
   "source": [
    "## DNA, RNA, Proteins, and the Central Dogma"
   ]
  },
  {
   "cell_type": "markdown",
   "metadata": {},
   "source": [
    "### a.k.a. `.c -> .o -> a.out/.exe` \n",
    "\n",
    "\n",
    "(this is brilliant !-)"
   ]
  },
  {
   "cell_type": "markdown",
   "metadata": {},
   "source": [
    "When scientists were still discovering the basics of genetics they were faced with lots of different chemicals but the correlation was unclear.\n",
    "\n",
    "When it became clear what comes from what, it was hailed as a great triumph and called **The Central Dogma**."
   ]
  },
  {
   "cell_type": "markdown",
   "metadata": {},
   "source": [
    "The main principle of the Central Dogma can be summerised by the following picture:\n",
    "\n",
    "![sketch](https://raw.githubusercontent.com/elegant-scipy/notebooks/master/figures/central_dogma.png)"
   ]
  },
  {
   "cell_type": "markdown",
   "metadata": {},
   "source": [
    "The DNA is _transcribed_ into a sister molecule called **RNA** (more specifically, *messenger RNA*, `mRNA`); which is then *translated* into a **Proteins**, the workhorses of the cell.\n",
    "\n",
    "A section of DNA that encodes the information to make a protein (via `mRNA`) is called **gene**."
   ]
  },
  {
   "cell_type": "markdown",
   "metadata": {},
   "source": [
    "If the DNA is the software, **proteins** are the most important **hardware**. Proteins are tiny machines that do almost all the work in a cell.\n",
    "\n",
    "Proteins are _also_ polymers, made up or repeating units called **amino acids**. \\[`back to codons`\\] Each sequence of three DNA bases (`codon`) corresponds to one amino acid. \n",
    "For example, the pattern `AAA` indicates the **lysine**, while `GCC` the **alanine** (not the compiler)."
   ]
  },
  {
   "cell_type": "markdown",
   "metadata": {},
   "source": [
    "Going from `DNA --> Protein` involves another molecule, the RNA, that serves as an intermediate representation (like a `byte code`) to carry information from one part to another part of a cell.\n",
    "\n",
    "Chemically, the RNA is very similar to DNA: still a polymer, and still composed by four bases: Uracil (`U`), Cytosine (`C`), Guanine (`G`), and Adenine (`A`)."
   ]
  },
  {
   "cell_type": "markdown",
   "metadata": {},
   "source": [
    "#### Dogma wrap up\n",
    "\n",
    "So, according to the central dogma, going from DNA to Protein involves the following two steps:\n",
    "\n",
    "1. The DNA sequence is _transcribed_ into an equivalent RNA sequence (`mRNA`);\n",
    "2. The RNA molecule is _translated_ into a protein molecule.\n",
    "\n",
    "The Central dogma explains _how_ proteins get made, but nothing is said about _when_. \n",
    "\n",
    "A human cell has many thousands of different proteins it can make. Surely it doesn't generated copies of all of them, all the time. There **must be** a mechanism underneath that regulates _when_ and _which_ protein is generated.\n",
    "\n",
    "In the conventional picture (i.e. **central dogma**), this regulatory mechanism is defined by special proteins called *transcription factors* (`TFs`).\n",
    "\n",
    "Like in a **perfect engineering masterpiece**, each `TF` recognises and binds to a particular DNA sequence, at a specific location. \n",
    "\n",
    "This location will influence the rate by which nearby genes will be further transcribed."
   ]
  },
  {
   "cell_type": "markdown",
   "metadata": {},
   "source": [
    "> Take a moment to enjoy this picture, as I am going to spoil it in the next section!"
   ]
  },
  {
   "cell_type": "markdown",
   "metadata": {},
   "source": [
    "###### ... and now for something completely different! _(-ish)_\n",
    "\n",
    "**Note**: Feel free to skip to jump to the conclusion (literally), skipping all the details: $\\Rightarrow$ [Skip](#dl-genomics)\n"
   ]
  },
  {
   "cell_type": "markdown",
   "metadata": {},
   "source": [
    "> **Introductory notes**: \n",
    ">\n",
    ">This section will go more in the details to better characterise DNA and genomes, in a way that tries to be closer to what happens in reality. Some of the very details are reported for the sake of completeness, in order to get a sense of how incredibly complex living organisms are.\n",
    ">\n",
    "> However, the purpose is definitely not to intimidate the reader with _overwhelming gibberish_. On the contrary, given the complexity of the problems (and so of the `data`) - which is both complex and poorly understood - there is huge potential for Machine learning to excel.\n",
    ">\n",
    "> In fact, Machine learning (and _Deep Learning_, in particular) are very well suited to the context, being able to represent the complexity of the data at hand. Genomics involves complex _non-linear_ relationships between hundreds of variables, exactly the sort of relationships that an be effectively described by a deep neural network."
   ]
  },
  {
   "cell_type": "markdown",
   "metadata": {},
   "source": [
    "In the conventional picture, we simplified the scenario stating that particular stretches of DNA correspond to a (single) particular protein. This is true indeed, but only for bacteria :)\n",
    "\n",
    "For eukaryotes (a group that spans from amoebas  to humans) the situation is more complicated. After the DNA is transcribed into `mRNA`, that RNA ofter is edited to remove sections, and connect (**splice**) the remaining parts. These parts are called **exons**, as opposed to **introns** (lit. _in between_). We will describe more in details these parts in analogy with _code comments_ (see below).\n",
    "\n",
    "The RNA sequence that finally get translated into a protein (_more on this, later in the section_) may therefore be different from the original DNA sequence. Moreover, many genese have muliple _splice variants_ - different ways of removing sections to form the final sequence. Therefore, a single stretch of a DNA can indeed correspond to the coding of **several proteins**.\n"
   ]
  },
  {
   "cell_type": "markdown",
   "metadata": {},
   "source": [
    "### Dead code and Comments"
   ]
  },
  {
   "cell_type": "markdown",
   "metadata": {},
   "source": [
    "<div style=\"position: relative;\" width=\"100%\">\n",
    "    <div style=\"float: left; position: relative; max-width: 365px\">\n",
    "        <img src=\"imgs/dna_coder_comment.png\" width=\"70%\"\n",
    "             alt=\"DNA Comments\" title=\"DNA dead code and Comments\" />\n",
    "    </div>\n",
    "    <div style=\"float:left; position: relative; max-width: 600px\">\n",
    "        \n",
    "The genome is littered with old copies of genes and experiments that went wrong somewhere \n",
    "in the recent past - _say, the last half a million years_. \n",
    "This code is there but <i>inactive</i>. These are called the <b>pseudo genes</b>.\n",
    "            \n",
    "Furthermore, `97%` of your DNA is **commented out**. \n",
    "\n",
    "Like an **interpreted** program, DNA is linear and read from start to end. \n",
    "\n",
    "The parts that should not be decoded are marked very clearly, much like `C` comments. \n",
    "\n",
    "The `3%` that is used directly form the so called **exons**. \n",
    "\n",
    "The comments, that come _in-between_ are called **introns**.\n",
    "\n",
    "Like code comments, they have a start marker (e.g. `/*`), and a stop marker (`*/`). But they have some more structure. Remember that DNA is like a _tape_ - the comments need to be snipped out physically! \n",
    "\n",
    "The start of a comment is almost always indicated by the letters `GT`, which thus corresponds to `/*`, \n",
    "the end is signalled by `AG`, which is then like `*/`.\n",
    "\n",
    "However because of the snipping, some glue is needed to connect the code before the comment to the code after, which makes the comments more like `HTML` comments, which are longer: '<!--' signifies the start, '-->' the end.\n",
    "            </div>\n",
    "</div>\n",
    "    "
   ]
  },
  {
   "cell_type": "markdown",
   "metadata": {},
   "source": [
    "So an actual stretch of DNA with exons and introns might look like this:\n",
    "```\n",
    "ACTUAL CODE<!-- blah blah blah blah ---- blah -->ACTUAL CODE\n",
    "  |         |            |           |        |        |\n",
    "exon 1    donor       intron 1     branch  acceptor  exon 2\n",
    "     (start of comment)                 (end of comment)\n",
    "```"
   ]
  },
  {
   "cell_type": "markdown",
   "metadata": {},
   "source": [
    "#### Epigenetics and Imprinting: _runtime binary patching_"
   ]
  },
  {
   "cell_type": "markdown",
   "metadata": {},
   "source": [
    "Substantial changes to the DNA occurs by _activating_ or _deactivating_ parts of our genome, without altering the actual code.\n",
    "\n",
    "This mechanism can be compared to what happens in the Linux kernel: at boot time, the kernel discovers what `CPU` it is running on, and actually disables parts of its binary code in case - e.g. it is running on a single CPU system. \n",
    "\n",
    "This goes beyond something like `if(numcpus > 1)`, it is the actual _nopping_ out of locking. Crucially, this nopping occurs in memory and not on the disk based image.\n",
    "\n",
    "Similarly, as an embryo develops during pregnancy, its DNA is edited substantially to reduce its growth rate, and the size of the placenta  (i.e. _imprinting_). Moreover, it is also becoming clear that the metabolic status of the parents influences the chances of long life, cancer and diabetes in their grandchildren (_transgenerational epigegenetics inheritance_).\n",
    "\n",
    "The mechanism behind _epigenetics_ - i.e. the study of changes in organisms caused by modification of gene expression rather than alteration of the genetic code itself - and _imprinting_ are chemical modifications to DNA stretches that control the synthetisation of RNA (_transcribed_)."
   ]
  },
  {
   "cell_type": "markdown",
   "metadata": {},
   "source": [
    "#### Histone modification and Methylation"
   ]
  },
  {
   "cell_type": "markdown",
   "metadata": {},
   "source": [
    "In more details, DNA molecules (i.e. *chromosomes*) needs to be \"compressed\" in a very small space, to be able to fit inside a cell.\n",
    "\n",
    "This is accomplihed by **winding** chromosomes around proteins called *histones*.\n",
    "\n",
    "However, despite the size of the genome can be very large (e.g. human genome), this \"compression\" of the chromosome cannot be performed in a *multipart* fashion.\n",
    "\n",
    "The winding of the chromosomes inhibits genes to be _transcribed_; so the stretch of the DNA containing those genes must be first **unwound**. \n",
    "\n",
    "What is actually the regulatory mechanism that controls **which** and **what** genes are **un-compressed** is still poorly understood, although it is believed that this involves various type of chemical modification to the histone molecules, and proteins that recognise particular modifications."
   ]
  },
  {
   "cell_type": "markdown",
   "metadata": {},
   "source": [
    "Another chemical modification of the DNA - also involved in the control of RNA synthetisation - is the **methylation**, in which _methyl groups_ are attached to DNA to _flip_ their activation status. The more a DNA stretch is methylated, the less likely that stretch to be _transcribed_."
   ]
  },
  {
   "cell_type": "markdown",
   "metadata": {},
   "source": [
    "### RNA beyond `mRNA`"
   ]
  },
  {
   "cell_type": "markdown",
   "metadata": {},
   "source": [
    "So far, RNA has been introduced and described as a mere _information proxy_, a temporary buffer just necessary to generate proteins from the DNA. \n",
    "\n",
    "However, despite this is not entirely incorrect, this is definitely _incomplete_."
   ]
  },
  {
   "cell_type": "markdown",
   "metadata": {},
   "source": [
    "Once the DNA is transcribed in `mRNA`, this `mRNA` is translated into proteins by complicated molecular machines made party of proteins and party of RNA. Introducing, **ribosomes**."
   ]
  },
  {
   "cell_type": "markdown",
   "metadata": {},
   "source": [
    "<div style=\"position: relative;\" width=\"100%\">\n",
    "    <div style=\"float: left; position: relative; max-width: 365px\">\n",
    "        <img src=\"imgs/dna_rna_protein.png\" title=\"DNA to Proteins\" \n",
    "             alt=\"DNA-mRNA-tRNA-protein\" width=\"90%\" />\n",
    "    </div>\n",
    "    <div style=\"float:left; position: relative; max-width: 600px\">\n",
    "\n",
    "Another key role in protein translation is performed by molecules called _transfer_ RNA (`tRNA`). These are the moleculs that define the \"genetic code\", recognising patterns for the three bases in `mRNA` (i.e. **codons**) and add the correct amino acid to the growing protein. We can fairly say, that `tRNA` acts as a mixture of data mining/pattern matching engine trained on millions of samples, and faster than a mere `regexp` engine.\n",
    "\n",
    "In conclusion, for over fifty years, we did know that there were **three kinds** of RNA: \n",
    "`mRNA`, `tRNA`, and _ribosomial_ RNA (`rRNA`)\n",
    "    </div>\n",
    "</div>"
   ]
  },
  {
   "cell_type": "markdown",
   "metadata": {},
   "source": [
    "However, over the last few decades, many other types of RNA have been discovered. Here are some examples:"
   ]
  },
  {
   "cell_type": "markdown",
   "metadata": {},
   "source": [
    "* _Micro RNA_ (`miRNA`): short pieces of RNA that bind to `mRNA` and acts as inhibitors for protein translation.\n",
    "\n",
    "* _Short interfering RNA_ (`siRNA`): another type of RNA that binds to `mRNA` and prevents protein translation. The very difference with `miRNA` is in some of the functional properties, and in the chemical structure (`siRNA` is double stranded, `miRNA` is single stranded).\n",
    "\n",
    "* _Ribozymes_ are very special RNA molecules that acts as `enzymes`, catalising chemical reactions. This job is usually carried out by proteins, but sometimes is also done by RNA."
   ]
  },
  {
   "cell_type": "markdown",
   "metadata": {},
   "source": [
    "#### In conclusion: It all started from the DNA!\n",
    "\n",
    "All these different types of RNA are generated by the DNA. \n",
    "\n",
    "So, the DNA is not just a string of encoded protein sequences. \n",
    "\n",
    "It also contains instructions on **how** to make them. \n",
    "\n",
    "Moreover, it also contains RNA sequences, binding sites for transcription factors; instructions for how `mRNA` should be spliced (recall, `splice variants`); instructions and chemical modifications that influece how the DNA wounds around histones, and which genes will be transcribed, in the very end."
   ]
  },
  {
   "cell_type": "markdown",
   "metadata": {},
   "source": [
    "---"
   ]
  }
 ],
 "metadata": {
  "kernelspec": {
   "display_name": "Python 3.7 (DL BioMed)",
   "language": "python",
   "name": "dl-biomed"
  },
  "language_info": {
   "codemirror_mode": {
    "name": "ipython",
    "version": 3
   },
   "file_extension": ".py",
   "mimetype": "text/x-python",
   "name": "python",
   "nbconvert_exporter": "python",
   "pygments_lexer": "ipython3",
   "version": "3.7.6"
  }
 },
 "nbformat": 4,
 "nbformat_minor": 2
}
