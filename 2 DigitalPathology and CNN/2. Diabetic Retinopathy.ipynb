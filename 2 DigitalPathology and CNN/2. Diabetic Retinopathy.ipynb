{
 "cells": [
  {
   "cell_type": "code",
   "execution_count": null,
   "metadata": {},
   "outputs": [],
   "source": [
    "!pip install kaggle"
   ]
  },
  {
   "cell_type": "code",
   "execution_count": null,
   "metadata": {
    "scrolled": false
   },
   "outputs": [],
   "source": [
    "!pip install tensorboard"
   ]
  },
  {
   "cell_type": "code",
   "execution_count": 3,
   "metadata": {},
   "outputs": [],
   "source": [
    "import os\n",
    "import stat\n",
    "import json\n",
    "from ipywidgets import Password\n",
    "from ipywidgets import widgets\n",
    "from IPython.display import display\n",
    "from IPython.display import Image\n",
    "\n",
    "import kaggle"
   ]
  },
  {
   "cell_type": "markdown",
   "metadata": {},
   "source": [
    "###### Create and place your API token\n",
    "\n",
    "To be able to download datasets using the Kaggle API, please create and download your API token.\n",
    "1. Go to [Kaggle](https://www.kaggle.com/) and log in.\n",
    "2. Go to your account (locate your profile image at the top-right corner of the page)\n",
    "\n",
    "![](kaggle_account.png)\n",
    "\n",
    "3. Scroll down your account page until you find the API cell, and click on the \"Create new API token\" button.\n",
    "\n",
    "![](api_key.png)\n",
    "\n",
    "This will download a file called `kaggle.json`. This file contains the credentials that the Kaggle API will need, but you need to place it in the correct folder. "
   ]
  },
  {
   "cell_type": "code",
   "execution_count": 4,
   "metadata": {},
   "outputs": [
    {
     "data": {
      "application/vnd.jupyter.widget-view+json": {
       "model_id": "99f5bbbacc184e119639b13159af3ff7",
       "version_major": 2,
       "version_minor": 0
      },
      "text/plain": [
       "Text(value='', description='User', placeholder='Insert your Kaggle username!')"
      ]
     },
     "metadata": {},
     "output_type": "display_data"
    }
   ],
   "source": [
    "user = widgets.Text(\n",
    "    placeholder='Insert your Kaggle username!',\n",
    "    description='User',\n",
    "    disabled=False\n",
    ")\n",
    "\n",
    "pwd = Password(\n",
    "    description='Key',\n",
    "    placeholder='Insert key for user {}'.format(user.value)\n",
    ")\n",
    "\n",
    "def callback(wdgt):\n",
    "    folder = os.path.expanduser('~/.kaggle')\n",
    "    os.makedirs(folder, exist_ok=True)\n",
    "    file = '{}/kaggle.json'.format(folder)\n",
    "    with open(file, 'w') as kaggle_file:\n",
    "        json.dump({\n",
    "            'username': user.value,\n",
    "            'key': wdgt.value\n",
    "        }, kaggle_file)\n",
    "        \n",
    "        print(\"Credentials created in {}\".format(folder))\n",
    "    os.chmod(file, stat.S_IREAD | stat.S_IWRITE)\n",
    "\n",
    "user.on_submit(lambda wdg: display(pwd))\n",
    "pwd.on_submit(callback)\n",
    "\n",
    "display(user)"
   ]
  },
  {
   "cell_type": "code",
   "execution_count": 5,
   "metadata": {},
   "outputs": [],
   "source": [
    "import kaggle\n",
    "\n",
    "DATASET_FOLDER = './diabetic_retinopathy'\n",
    "os.makedirs(DATASET_FOLDER, exist_ok=True)"
   ]
  },
  {
   "cell_type": "code",
   "execution_count": 6,
   "metadata": {},
   "outputs": [],
   "source": [
    "kaggle.api.authenticate()"
   ]
  },
  {
   "cell_type": "code",
   "execution_count": 7,
   "metadata": {},
   "outputs": [
    {
     "name": "stdout",
     "output_type": "stream",
     "text": [
      "ref                                                           title                                                size  lastUpdated          downloadCount  voteCount  usabilityRating  \r\n",
      "------------------------------------------------------------  --------------------------------------------------  -----  -------------------  -------------  ---------  ---------------  \r\n",
      "tanlikesmath/diabetic-retinopathy-resized                     Diabetic Retinopathy (resized)                        7GB  2019-05-08 01:48:17           6411        249  0.5882353        \r\n",
      "sovitrath/diabetic-retinopathy-224x224-gaussian-filtered      Diabetic Retinopathy 224x224 Gaussian Filtered      427MB  2020-02-18 02:33:27           1379         70  0.88235295       \r\n",
      "benjaminwarner/resized-2015-2019-blindness-detection-images   Resized 2015 & 2019 Blindness Detection Images       17GB  2019-07-03 04:01:09           2762         71  0.7058824        \r\n",
      "google-brain/messidor2-dr-grades                              MESSIDOR-2 DR Grades                                  7KB  2018-07-02 23:18:22           1770         71  0.88235295       \r\n",
      "sovitrath/diabetic-retinopathy-224x224-grayscale-images       Diabetic Retinopathy 224x224 Grayscale Images       157MB  2020-02-18 02:40:18             96          3  0.88235295       \r\n",
      "lrasmy/sample-diab-retn                                       BMI_6334 Sample Diab Ret                             32GB  2018-09-05 19:39:46            320         11  0.3529412        \r\n",
      "aaryapatel98/indian-diabetic-retinopathy-image-dataset        INDIAN DIABETIC RETINOPATHY IMAGE DATASET           408MB  2020-01-11 17:58:27            159          8  0.64705884       \r\n",
      "dola1507108/diabetic-retinopathy-classified                   Diabetic Retinopathy Classified                       7GB  2019-11-06 17:44:16            186          5  0.47058824       \r\n",
      "prasertsak/dr2015-resized                                     Diabetic Retinopathy 2015 (resized)                  16GB  2019-08-15 04:45:13            190          6  0.5294118        \r\n",
      "sohaibanwaar1203/prepossessed-arrays-of-binary-data           Diabetic-Ratinopathy_Sample_Dataset_Binary          779MB  2019-01-27 21:08:39            462         22  0.5625           \r\n",
      "gami4388/diabetic-retinopathy-resized-train-15-19-dg          diabetic retinopathy resized_train_15_19_DG          35GB  2019-07-14 14:05:52            140          5  0.4117647        \r\n",
      "currypurin/diabetic-retinopathy-detection-image-size          Diabetic Retinopathy Detection image shape          891KB  2019-07-21 16:39:02            154          8  0.3529412        \r\n",
      "sovitrath/diabetic-retinopathy-2015-data-colored-resized      Diabetic Retinopathy 2015 Data Colored Resized        2GB  2020-03-05 10:53:06            120          3  0.88235295       \r\n",
      "ukveteran/diabetic-retinopathy                                Diabetic retinopathy                                  4KB  2019-10-07 10:45:05             26          1  0.29411766       \r\n",
      "rutujachaudhari/diabetic-retinopathy                          diabetic retinopathy                                 13GB  2020-04-03 18:39:26              7          2  0.25             \r\n",
      "sovitrath/diabetic-retinopathy-224x224-2019-data              Diabetic Retinopathy 224x224 (2019 Data)            238MB  2020-02-18 07:22:41             72          1  0.88235295       \r\n",
      "gzuidhof/diabetic-retinopathy-detection-resized               Diabetic Retinopathy Detection Resized               12GB  2019-07-08 22:38:00            244          3  0.4117647        \r\n",
      "andrewmvd/drive-digital-retinal-images-for-vessel-extraction  DRIVE Digital Retinal Images for Vessel Extraction   28MB  2020-04-06 21:30:14            104         10  0.8125           \r\n",
      "sohaibanwaar1203/diabetic-rateinopathy-full                   Diabetic Rateinopathy Resized                       391MB  2019-05-29 12:53:30            456         10  0.64705884       \r\n",
      "aitude/aptos-augmented-images                                 APTOS2019 - 10K Augmented Images                      3GB  2019-08-20 16:55:54            124          6  0.75             \r\n"
     ]
    }
   ],
   "source": [
    "!kaggle datasets list -s Retinopathy"
   ]
  },
  {
   "cell_type": "code",
   "execution_count": 8,
   "metadata": {},
   "outputs": [],
   "source": [
    "target_dataset = \"sovitrath/diabetic-retinopathy-224x224-2019-data\""
   ]
  },
  {
   "cell_type": "code",
   "execution_count": 9,
   "metadata": {},
   "outputs": [],
   "source": [
    "kaggle.api.dataset_download_files(target_dataset, \n",
    "                                  path=DATASET_FOLDER, unzip=True)"
   ]
  },
  {
   "cell_type": "markdown",
   "metadata": {},
   "source": [
    "# Diabetic Retinopathy"
   ]
  },
  {
   "cell_type": "markdown",
   "metadata": {},
   "source": [
    "Diabetic retinopathy is a condition in which diabetes damages the health of the eyes. \n",
    "\n",
    "It is a major cause of blindness, especially in the developing world. \n",
    "\n",
    "The **fundus** is the interior area of the eye that’s opposite to the lens. \n",
    "\n",
    "A common strategy for diagnosis of diabetic retinopathy is for doctors to view an image of the patient’s fundus and label it manually. \n",
    "\n",
    "Significant work has gone into \"fundus photography\" which develops techniques to capture patient fundus images."
   ]
  },
  {
   "cell_type": "markdown",
   "metadata": {},
   "source": [
    "![](diabetic_retinopathy/colored_images/No_DR/0a4e1a29ffff.png)"
   ]
  },
  {
   "cell_type": "markdown",
   "metadata": {},
   "source": [
    "The **learning challenge** for diabetic retinopathy is to design an algorithm that can classify a patient’s disease progress given an image of the patients’ fundus. At present, making such predictions requires skilled doctors or technicians. \n",
    "\n",
    "The hope is that a machine learning system could accurately predict disease progression from patient fundus images. \n",
    "\n",
    "This could provide patients with a cheap method of understanding their risk, which they could use before consulting a more expensive expert doctor for a diagnosis."
   ]
  },
  {
   "cell_type": "code",
   "execution_count": 10,
   "metadata": {},
   "outputs": [],
   "source": [
    "# imports\n",
    "import matplotlib.pyplot as plt\n",
    "import numpy as np\n",
    "\n",
    "import torch\n",
    "import torchvision\n",
    "import torchvision.transforms as transforms\n",
    "\n",
    "import torch.nn as nn\n",
    "import torch.nn.functional as F\n",
    "import torch.optim as optim"
   ]
  },
  {
   "cell_type": "code",
   "execution_count": 11,
   "metadata": {},
   "outputs": [],
   "source": [
    "# Transformers\n",
    "\n",
    "# transforms\n",
    "transform = transforms.Compose(\n",
    "    [transforms.ToTensor(),\n",
    "    transforms.Normalize((0.5,), (0.5,))])"
   ]
  },
  {
   "cell_type": "markdown",
   "metadata": {},
   "source": [
    "### Introducing TorchVision\n",
    "\n",
    "The `torchvision` package consists of popular datasets, model architectures, and common image transformations for computer vision."
   ]
  },
  {
   "cell_type": "markdown",
   "metadata": {},
   "source": [
    "Among the many features provided by `torchVision`, there is a special `Dataset` class called `ImageDataFolder`\n",
    "\n",
    "(*from the documentation*)\n",
    ">A generic data loader where the images are arranged in this way:\n",
    "\n",
    "    root/dog/xxx.png\n",
    "    root/dog/xxy.png\n",
    "    root/dog/xxz.png\n",
    "\n",
    "    root/cat/123.png\n",
    "    root/cat/nsdf3.png\n",
    "    root/cat/asd932_.png"
   ]
  },
  {
   "cell_type": "code",
   "execution_count": 12,
   "metadata": {},
   "outputs": [
    {
     "name": "stdout",
     "output_type": "stream",
     "text": [
      "\u001b[1m\u001b[36mMild\u001b[m\u001b[m           \u001b[1m\u001b[36mModerate\u001b[m\u001b[m       \u001b[1m\u001b[36mNo_DR\u001b[m\u001b[m          \u001b[1m\u001b[36mProliferate_DR\u001b[m\u001b[m \u001b[1m\u001b[36mSevere\u001b[m\u001b[m\r\n"
     ]
    }
   ],
   "source": [
    "!ls ./diabetic_retinopathy/colored_images"
   ]
  },
  {
   "cell_type": "code",
   "execution_count": 13,
   "metadata": {},
   "outputs": [],
   "source": [
    "# datasets\n",
    "\n",
    "from torchvision.datasets import ImageFolder\n",
    "from torch.utils.data import DataLoader\n",
    "\n",
    "db_retinopathy_dataset = ImageFolder(root='./diabetic_retinopathy/colored_images', transform=transform)"
   ]
  },
  {
   "cell_type": "code",
   "execution_count": 14,
   "metadata": {},
   "outputs": [
    {
     "data": {
      "text/plain": [
       "3662"
      ]
     },
     "execution_count": 14,
     "metadata": {},
     "output_type": "execute_result"
    }
   ],
   "source": [
    "len(db_retinopathy_dataset)"
   ]
  },
  {
   "cell_type": "markdown",
   "metadata": {},
   "source": [
    "###### Splitting Train and Test using torch `Subset`"
   ]
  },
  {
   "cell_type": "code",
   "execution_count": 15,
   "metadata": {},
   "outputs": [],
   "source": [
    "from torch.utils.data import Subset\n",
    "from sklearn.model_selection import train_test_split\n",
    "import numpy as np\n",
    "\n",
    "# in the simplest cases, no stratification is applied - we will change it later\n",
    "sample_indices = np.arange(3662)\n",
    "\n",
    "train_samples, test_samples = train_test_split(sample_indices, test_size=.2, random_state=42)"
   ]
  },
  {
   "cell_type": "code",
   "execution_count": 16,
   "metadata": {},
   "outputs": [],
   "source": [
    "trainset = Subset(db_retinopathy_dataset, train_samples)\n",
    "testset = Subset(db_retinopathy_dataset, test_samples)"
   ]
  },
  {
   "cell_type": "code",
   "execution_count": 17,
   "metadata": {},
   "outputs": [],
   "source": [
    "# dataloaders\n",
    "trainloader = torch.utils.data.DataLoader(trainset, batch_size=4,\n",
    "                                        shuffle=True, num_workers=2)\n",
    "\n",
    "\n",
    "testloader = torch.utils.data.DataLoader(testset, batch_size=4,\n",
    "                                        shuffle=False, num_workers=2)"
   ]
  },
  {
   "cell_type": "code",
   "execution_count": 18,
   "metadata": {},
   "outputs": [],
   "source": [
    "# constant for classes\n",
    "classes = ('Mild', 'Moderate', 'No_DR', 'Proliferate_DR', 'Severe')"
   ]
  },
  {
   "cell_type": "code",
   "execution_count": 19,
   "metadata": {},
   "outputs": [],
   "source": [
    "# helper function to show an image\n",
    "# (used in the `plot_classes_preds` function below)\n",
    "def matplotlib_imshow(img, one_channel=False):\n",
    "    if one_channel:\n",
    "        img = img.mean(dim=0)\n",
    "    img = img / 2 + 0.5     # unnormalize\n",
    "    npimg = img.numpy()\n",
    "    if one_channel:\n",
    "        plt.imshow(npimg, cmap=\"Greys\")\n",
    "    else:\n",
    "        plt.imshow(np.transpose(npimg, (1, 2, 0)))"
   ]
  },
  {
   "cell_type": "markdown",
   "metadata": {},
   "source": [
    "We’ll define a similar model architecture from that tutorial, making only minor modifications to account for the fact that the images are now one channel instead of three and 28x28 instead of 32x32:"
   ]
  },
  {
   "cell_type": "code",
   "execution_count": 47,
   "metadata": {},
   "outputs": [],
   "source": [
    "class DBRNet(nn.Module):\n",
    "    def __init__(self):\n",
    "        super(DBRNet, self).__init__()\n",
    "        self.conv1 = nn.Conv2d(3, 6, 5)\n",
    "        self.pool = nn.MaxPool2d(2, 2)\n",
    "        self.conv2 = nn.Conv2d(6, 16, 5)\n",
    "        self.fc1 = nn.Linear(16 * 53 * 53, 120)\n",
    "        self.fc2 = nn.Linear(120, 84)\n",
    "        self.fc3 = nn.Linear(84, 5)\n",
    "\n",
    "    def forward(self, x):\n",
    "        x = self.pool(F.relu(self.conv1(x)))\n",
    "        x = self.pool(F.relu(self.conv2(x)))\n",
    "        x = x.view(-1, 16 * 53 * 53)\n",
    "        x = F.relu(self.fc1(x))\n",
    "        x = F.relu(self.fc2(x))\n",
    "        x = self.fc3(x)\n",
    "        return x\n",
    "\n",
    "\n",
    "net = DBRNet()"
   ]
  },
  {
   "cell_type": "markdown",
   "metadata": {},
   "source": [
    "We’ll define the same `optimizer` and `criterion` from before:"
   ]
  },
  {
   "cell_type": "code",
   "execution_count": 48,
   "metadata": {},
   "outputs": [],
   "source": [
    "criterion = nn.CrossEntropyLoss()\n",
    "optimizer = optim.Adam(net.parameters(), lr=0.001)"
   ]
  },
  {
   "cell_type": "markdown",
   "metadata": {},
   "source": [
    "### TensorBoard Setup\n",
    "\n",
    "Now we’ll set up TensorBoard, importing `tensorboard` from `torch.utils` and defining a `SummaryWriter`, our key object for writing information to TensorBoard."
   ]
  },
  {
   "cell_type": "code",
   "execution_count": 44,
   "metadata": {},
   "outputs": [],
   "source": [
    "from torch.utils.tensorboard import SummaryWriter\n",
    "\n",
    "# default `log_dir` is \"runs\" - we'll be more specific here\n",
    "writer = SummaryWriter('runs/db_retinopathy')"
   ]
  },
  {
   "cell_type": "markdown",
   "metadata": {},
   "source": [
    "Note that this line alone creates a `runs/db_retinopathy` folder."
   ]
  },
  {
   "cell_type": "markdown",
   "metadata": {},
   "source": [
    "##### Writing to TensorBoard"
   ]
  },
  {
   "cell_type": "code",
   "execution_count": 45,
   "metadata": {},
   "outputs": [
    {
     "data": {
      "image/png": "[encoded data removed]",
      "text/plain": [
       "<Figure size 432x288 with 1 Axes>"
      ]
     },
     "metadata": {
      "needs_background": "light"
     },
     "output_type": "display_data"
    }
   ],
   "source": [
    "# get some random training images\n",
    "dataiter = iter(trainloader)\n",
    "images, labels = dataiter.next()\n",
    "\n",
    "# create grid of images\n",
    "img_grid = torchvision.utils.make_grid(images)\n",
    "\n",
    "# show images\n",
    "matplotlib_imshow(img_grid, one_channel=True)\n",
    "\n",
    "# write to tensorboard\n",
    "writer.add_image('diabetic_retinopathy_batch', img_grid)"
   ]
  },
  {
   "cell_type": "markdown",
   "metadata": {},
   "source": [
    "###### Tensorboard\n",
    "\n",
    "Now running"
   ]
  },
  {
   "cell_type": "markdown",
   "metadata": {},
   "source": [
    "```\n",
    "tensorboard --logdir=runs\n",
    "```"
   ]
  },
  {
   "cell_type": "markdown",
   "metadata": {},
   "source": [
    "Now you know how to use TensorBoard! \n",
    "\n",
    "$\\rightarrow$ [http://localhost:6006](http://localhost:6006)\n",
    "\n",
    "This example, however, could be done in a Jupyter Notebook - where TensorBoard really excels is in creating interactive visualizations. We’ll cover one of those next, and several more by the end of the tutorial."
   ]
  },
  {
   "cell_type": "markdown",
   "metadata": {},
   "source": [
    "One of TensorBoard’s strengths is its ability to visualize complex model structures. Let’s visualize the model we built."
   ]
  },
  {
   "cell_type": "code",
   "execution_count": 49,
   "metadata": {},
   "outputs": [],
   "source": [
    "writer.add_graph(net, images)\n",
    "writer.close()"
   ]
  },
  {
   "cell_type": "markdown",
   "metadata": {},
   "source": [
    "Now upon refreshing TensorBoard you should see a **Graphs** tab.\n",
    "\n",
    "Go ahead and double click on “Net” to see it expand, seeing a detailed view of the individual operations that make up the model.\n",
    "\n",
    "TensorBoard has a very handy feature for visualizing high dimensional data such as image data in a lower dimensional space; we’ll cover this next."
   ]
  },
  {
   "cell_type": "markdown",
   "metadata": {},
   "source": [
    "### Adding a “Projector” to TensorBoard\n",
    "\n",
    "We can visualize the lower dimensional representation of higher dimensional data via the add_embedding method"
   ]
  },
  {
   "cell_type": "code",
   "execution_count": 25,
   "metadata": {},
   "outputs": [],
   "source": [
    "try:\n",
    "    import tensorflow as tf\n",
    "    ## Patch\n",
    "    import tensorboard as tb\n",
    "    tf.io.gfile = tb.compat.tensorflow_stub.io.gfile\n",
    "except ImportError:\n",
    "    pass"
   ]
  },
  {
   "cell_type": "code",
   "execution_count": 26,
   "metadata": {},
   "outputs": [],
   "source": [
    "images, labels = next(iter(DataLoader(trainset, shuffle=True, batch_size=50)))"
   ]
  },
  {
   "cell_type": "code",
   "execution_count": 27,
   "metadata": {},
   "outputs": [
    {
     "data": {
      "text/plain": [
       "torch.Size([50, 3, 224, 224])"
      ]
     },
     "execution_count": 27,
     "metadata": {},
     "output_type": "execute_result"
    }
   ],
   "source": [
    "images.shape"
   ]
  },
  {
   "cell_type": "code",
   "execution_count": 28,
   "metadata": {},
   "outputs": [
    {
     "data": {
      "text/plain": [
       "torch.Size([50])"
      ]
     },
     "execution_count": 28,
     "metadata": {},
     "output_type": "execute_result"
    }
   ],
   "source": [
    "labels.shape"
   ]
  },
  {
   "cell_type": "code",
   "execution_count": 29,
   "metadata": {},
   "outputs": [
    {
     "name": "stdout",
     "output_type": "stream",
     "text": [
      "warning: Embedding dir exists, did you set global_step for add_embedding()?\n"
     ]
    }
   ],
   "source": [
    "# select random images and their target indices\n",
    "images, labels = next(iter(DataLoader(trainset, shuffle=True, batch_size=50)))\n",
    "\n",
    "# get the class labels for each image\n",
    "class_labels = [classes[lab] for lab in labels]\n",
    "\n",
    "# log embeddings\n",
    "features = images.view(-1, 224*224*3)\n",
    "writer.add_embedding(features,\n",
    "                     metadata=class_labels,\n",
    "                     label_img=images)\n",
    "writer.close()"
   ]
  },
  {
   "cell_type": "markdown",
   "metadata": {},
   "source": [
    "Now in the “Projector” tab of TensorBoard, you can see these 100 images - each of which is 784 dimensional - projected down into three dimensional space. Furthermore, this is interactive: you can click and drag to rotate the three dimensional projection. Finally, a couple of tips to make the visualization easier to see: select “color: label” on the top left, as well as enabling “night mode”, which will make the images easier to see since their background is white:"
   ]
  },
  {
   "cell_type": "markdown",
   "metadata": {},
   "source": [
    "### Tracking model training with TensorBoard\n",
    "\n",
    "In the previous example, we simply printed the model’s running loss every `2000` iterations. \n",
    "\n",
    "Now, we’ll instead log the running loss to TensorBoard, along with a view into the predictions the model is making via the `plot_classes_preds` function."
   ]
  },
  {
   "cell_type": "markdown",
   "metadata": {},
   "source": [
    "### Tracking model training with TensorBoard\n",
    "\n",
    "In the previous example, we simply printed the model’s running loss every `2000` iterations. \n",
    "\n",
    "Now, we’ll instead log the running loss to TensorBoard, along with a view into the predictions the model is making via the `plot_classes_preds` function."
   ]
  },
  {
   "cell_type": "code",
   "execution_count": 30,
   "metadata": {},
   "outputs": [],
   "source": [
    "# helper functions\n",
    "\n",
    "def images_to_probs(net, images):\n",
    "    '''\n",
    "    Generates predictions and corresponding probabilities from a trained\n",
    "    network and a list of images\n",
    "    '''\n",
    "    output = net(images)\n",
    "    # convert output probabilities to predicted class\n",
    "    _, preds_tensor = torch.max(output, 1)\n",
    "    preds = np.squeeze(preds_tensor.numpy())\n",
    "    return preds, [F.softmax(el, dim=0)[i].item() for i, el in zip(preds, output)]"
   ]
  },
  {
   "cell_type": "code",
   "execution_count": 50,
   "metadata": {},
   "outputs": [],
   "source": [
    "def plot_classes_preds(net, images, labels):\n",
    "    '''\n",
    "    Generates matplotlib Figure using a trained network, along with images\n",
    "    and labels from a batch, that shows the network's top prediction along\n",
    "    with its probability, alongside the actual label, coloring this\n",
    "    information based on whether the prediction was correct or not.\n",
    "    Uses the \"images_to_probs\" function.\n",
    "    '''\n",
    "    preds, probs = images_to_probs(net, images)\n",
    "    # plot the images in the batch, along with predicted and true labels\n",
    "    fig = plt.figure(figsize=(12, 48))\n",
    "    for idx in np.arange(4):\n",
    "        ax = fig.add_subplot(1, 4, idx+1, xticks=[], yticks=[])\n",
    "        matplotlib_imshow(images[idx], one_channel=True)\n",
    "        ax.set_title(\"{0}, {1:.1f}%\\n(label: {2})\".format(\n",
    "            classes[preds[idx]],\n",
    "            probs[idx] * 100.0,\n",
    "            classes[labels[idx]]),\n",
    "                    color=(\"green\" if preds[idx]==labels[idx].item() else \"red\"))\n",
    "    return fig"
   ]
  },
  {
   "cell_type": "markdown",
   "metadata": {},
   "source": [
    "Finally, let’s train the model using the same model training code from the prior tutorial, but writing results to TensorBoard every `1000` batches instead of printing to console; this is done using the `add_scalar` function.\n",
    "\n",
    "In addition, as we train, we’ll generate an image showing the model’s predictions vs. the actual results on the four images included in that batch."
   ]
  },
  {
   "cell_type": "code",
   "execution_count": 51,
   "metadata": {},
   "outputs": [
    {
     "name": "stdout",
     "output_type": "stream",
     "text": [
      "Finished Training\n"
     ]
    }
   ],
   "source": [
    "running_loss = 0.0\n",
    "for epoch in range(1):  # loop over the dataset multiple times\n",
    "\n",
    "    for i, data in enumerate(trainloader, 0):\n",
    "\n",
    "        # get the inputs; data is a list of [inputs, labels]\n",
    "        inputs, labels = data\n",
    "        \n",
    "\n",
    "        # zero the parameter gradients\n",
    "        optimizer.zero_grad()\n",
    "\n",
    "        # forward + backward + optimize\n",
    "        outputs = net(inputs)\n",
    "        loss = criterion(outputs, labels)\n",
    "        loss.backward()\n",
    "        optimizer.step()\n",
    "\n",
    "        running_loss += loss.item()\n",
    "        if i % 1000 == 999:    # every 1000 mini-batches...\n",
    "\n",
    "            # ...log the running loss\n",
    "            writer.add_scalar('training loss',\n",
    "                            running_loss / 1000,\n",
    "                            epoch * len(trainloader) + i)\n",
    "\n",
    "            # ...log a Matplotlib Figure showing the model's predictions on a\n",
    "            # random mini-batch\n",
    "            writer.add_figure('predictions vs. actuals',\n",
    "                            plot_classes_preds(net, inputs, labels),\n",
    "                            global_step=epoch * len(trainloader) + i)\n",
    "            running_loss = 0.0\n",
    "print('Finished Training')"
   ]
  },
  {
   "cell_type": "markdown",
   "metadata": {},
   "source": [
    "You can now look at the scalars tab to see the running loss plotted over the 15,000 iterations of training\n",
    "\n",
    "In addition, we can look at the predictions the model made on arbitrary batches throughout learning. See the “Images” tab and scroll down under the “predictions vs. actuals” visualization to see this; this shows us that, for example, after just 3000 training iterations, the model was already able to distinguish between visually distinct classes such as shirts, sneakers, and coats, though it isn’t as confident as it becomes later on in training"
   ]
  },
  {
   "cell_type": "markdown",
   "metadata": {},
   "source": [
    "### Model Assessment"
   ]
  },
  {
   "cell_type": "code",
   "execution_count": 52,
   "metadata": {},
   "outputs": [],
   "source": [
    "# 1. gets the probability predictions in a test_size x num_classes Tensor\n",
    "# 2. gets the preds in a test_size Tensor\n",
    "# takes ~10 seconds to run\n",
    "class_probs = []\n",
    "class_preds = []\n",
    "with torch.no_grad():\n",
    "    for data in testloader:\n",
    "        images, labels = data\n",
    "        output = net(images)\n",
    "        class_probs_batch = [F.softmax(el, dim=0) for el in output]\n",
    "        _, class_preds_batch = torch.max(output, 1)\n",
    "\n",
    "        class_probs.append(class_probs_batch)\n",
    "        class_preds.append(class_preds_batch)\n",
    "\n",
    "test_probs = torch.cat([torch.stack(batch) for batch in class_probs])\n",
    "test_preds = torch.cat(class_preds)"
   ]
  },
  {
   "cell_type": "code",
   "execution_count": 53,
   "metadata": {},
   "outputs": [],
   "source": [
    "# helper function\n",
    "def add_pr_curve_tensorboard(class_index, test_probs, test_preds, global_step=0):\n",
    "    '''\n",
    "    Takes in a \"class_index\" from 0 to 9 and plots the corresponding\n",
    "    precision-recall curve\n",
    "    '''\n",
    "    tensorboard_preds = test_preds == class_index\n",
    "    tensorboard_probs = test_probs[:, class_index]\n",
    "\n",
    "    writer.add_pr_curve(classes[class_index],\n",
    "                        tensorboard_preds,\n",
    "                        tensorboard_probs,\n",
    "                        global_step=global_step)\n",
    "    writer.close()\n",
    "\n",
    "# plot all the pr curves\n",
    "for i in range(len(classes)):\n",
    "    add_pr_curve_tensorboard(i, test_probs, test_preds)"
   ]
  },
  {
   "cell_type": "markdown",
   "metadata": {},
   "source": [
    "You will now see a “PR Curves” tab that contains the precision-recall curves for each class. "
   ]
  }
 ],
 "metadata": {
  "kernelspec": {
   "display_name": "Python 3.7 (DL BioMed)",
   "language": "python",
   "name": "dl-biomed"
  },
  "language_info": {
   "codemirror_mode": {
    "name": "ipython",
    "version": 3
   },
   "file_extension": ".py",
   "mimetype": "text/x-python",
   "name": "python",
   "nbconvert_exporter": "python",
   "pygments_lexer": "ipython3",
   "version": "3.7.6"
  }
 },
 "nbformat": 4,
 "nbformat_minor": 4
}
